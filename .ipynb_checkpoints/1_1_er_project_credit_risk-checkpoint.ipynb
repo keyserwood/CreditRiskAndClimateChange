{
 "cells": [
  {
   "cell_type": "markdown",
   "metadata": {
    "id": "mCpMX1x5hYTP"
   },
   "source": [
    "# Transition risk and climate risk \n",
    "\n",
    "> This project aims at jointly modeling physical and\n",
    "transition risk within a Merton-like credit risk model, building up on [Bouchet and Le Guenedal, 2020].\n",
    "\n",
    "<br>\n",
    "\n",
    "**Target** : Introduce physical risk in the model as a Poisson component variable, whose\n",
    "jumps are proportional to the total asset value (any alternative may be proposed). You\n",
    "may consider a simpler model where physical risk occurs only once (with a exponential\n",
    "law time distribution).\n",
    "\n",
    "* Assess the additional impact of physical risk on default probabilities"
   ]
  },
  {
   "cell_type": "markdown",
   "metadata": {
    "id": "n6EnF00ZhYTY"
   },
   "source": [
    "## Merton Model\n",
    "\n",
    "Il est nécessaire d'initialiser notre modèle avec la valeur de la firme en année 0 : \n",
    "\n",
    "*Pour cela on récupère* :\n",
    "\n",
    "* PD : Probabilité de défault -> Permet de déterminer N1 et N2 \n",
    "* $\\sigma_v$ : Déterminé grâce au cours de l'action \n",
    "* V,E,D : récupérés grâce à l'étude des comptes"
   ]
  },
  {
   "cell_type": "code",
   "execution_count": 29,
   "metadata": {
    "id": "NiiY47KFhYTZ"
   },
   "outputs": [],
   "source": [
    "import numpy as np \n",
    "import pandas as pd\n",
    "from scipy.stats import norm\n",
    "import matplotlib.pyplot as plt"
   ]
  },
  {
   "cell_type": "markdown",
   "metadata": {
    "id": "qVlwZ9PnhYTZ"
   },
   "source": [
    "## Merton's Inputs"
   ]
  },
  {
   "cell_type": "code",
   "execution_count": 30,
   "metadata": {
    "id": "3Zj6LZ9XhYTZ"
   },
   "outputs": [],
   "source": [
    "Equity_dict={'Danone': 13684, 'Nestle':53730, 'Schlumberger':58860 , 'Areva': 723, 'Mistu': 19 }\n",
    "Debt_dict={'Danone': 1043300, 'Nestle':48926, 'Schlumberger':49232 , 'Areva': 3780, 'Mistu': 82 }\n",
    "\n",
    "PD_dict={'Danone': 0.08, 'Nestle':0.08, 'Schlumberger':0.08 , 'Areva': 0.08, 'Mistu': 0.08 }\n",
    "E= Equity_dict['Danone'] # Asset value \n",
    "D = Debt_dict['Danone'] # Equity value \n",
    "V = D+E #Debt value\n",
    "T = 40 # Maturity - Horizon 2020 - 2060\n",
    "PD_value=PD_dict['Danone']"
   ]
  },
  {
   "cell_type": "markdown",
   "metadata": {
    "id": "36LK8r8VhYTb"
   },
   "source": [
    "## Reverse cumulative normal distribution"
   ]
  },
  {
   "cell_type": "code",
   "execution_count": 31,
   "metadata": {
    "id": "8ERvlwe9hYTc"
   },
   "outputs": [],
   "source": [
    "inv_PD = norm.ppf(PD_value) "
   ]
  },
  {
   "cell_type": "code",
   "execution_count": 32,
   "metadata": {
    "colab": {
     "base_uri": "https://localhost:8080/"
    },
    "id": "9CITKT3UhYTc",
    "outputId": "7e422eaf-4384-42b6-f160-7814f5b43c8e"
   },
   "outputs": [
    {
     "data": {
      "text/plain": [
       "-1.4050715603096329"
      ]
     },
     "execution_count": 32,
     "metadata": {},
     "output_type": "execute_result"
    }
   ],
   "source": [
    "inv_PD"
   ]
  },
  {
   "cell_type": "markdown",
   "metadata": {
    "id": "hEy5maDPhYTd"
   },
   "source": [
    "## Compute d1 - using PD and $\\sigma_v$"
   ]
  },
  {
   "cell_type": "markdown",
   "metadata": {
    "id": "yHtBXkiohYTd"
   },
   "source": [
    "$PD = \\Phi(-DD) \\rightarrow d_1 = -\\Phi^{-1}(PD)$"
   ]
  },
  {
   "cell_type": "code",
   "execution_count": 33,
   "metadata": {
    "id": "ec-UEF-KhYTe"
   },
   "outputs": [],
   "source": [
    "import math\n",
    "d1 = -inv_PD\n",
    "r=1.56/1000"
   ]
  },
  {
   "cell_type": "code",
   "execution_count": 34,
   "metadata": {
    "colab": {
     "base_uri": "https://localhost:8080/"
    },
    "id": "XMW6yZrvhYTe",
    "outputId": "13f4fdc1-745a-40e2-cb18-5a99fe21e2ed"
   },
   "outputs": [
    {
     "name": "stdout",
     "output_type": "stream",
     "text": [
      "0.9781201262537241\n"
     ]
    }
   ],
   "source": [
    "a=((-E+V*norm.cdf(d1))/(D*math.exp(-r*T)))\n",
    "print(a)\n",
    "d2=norm.ppf(a)\n",
    "sigma_v=(d1-d2)/np.sqrt(T)\n",
    "sigma_e=(V*sigma_v*norm.cdf(d1))/V"
   ]
  },
  {
   "cell_type": "code",
   "execution_count": 35,
   "metadata": {
    "colab": {
     "base_uri": "https://localhost:8080/"
    },
    "id": "Y5YVZW_ahYTf",
    "outputId": "a8731691-b2af-4657-b8d5-26093420a218"
   },
   "outputs": [
    {
     "name": "stdout",
     "output_type": "stream",
     "text": [
      "d1 = 1.405\n",
      "d2 = 2.016\n",
      "sigma_v= -0.09665711944699086\n",
      "sigma_e= -0.08892454989123161\n"
     ]
    }
   ],
   "source": [
    "print('d1 =',round(d1,3))\n",
    "print('d2 =',round(d2,3))\n",
    "print('sigma_v=',sigma_v)\n",
    "print('sigma_e=',sigma_e)"
   ]
  },
  {
   "cell_type": "markdown",
   "metadata": {
    "id": "ed_h_EKwhYTf"
   },
   "source": [
    "# Introduce carbon tax\n",
    "\n",
    "3 évolutions de prix possibles - sur l'horizon 2030-2035 (si plus changer maturité)"
   ]
  },
  {
   "cell_type": "code",
   "execution_count": 36,
   "metadata": {
    "colab": {
     "base_uri": "https://localhost:8080/",
     "height": 324
    },
    "id": "HNjr6m1khYTg",
    "outputId": "5bd07363-5020-4c8b-e0b9-22f684722fba",
    "scrolled": true
   },
   "outputs": [
    {
     "data": {
      "text/html": [
       "<div>\n",
       "<style scoped>\n",
       "    .dataframe tbody tr th:only-of-type {\n",
       "        vertical-align: middle;\n",
       "    }\n",
       "\n",
       "    .dataframe tbody tr th {\n",
       "        vertical-align: top;\n",
       "    }\n",
       "\n",
       "    .dataframe thead th {\n",
       "        text-align: right;\n",
       "    }\n",
       "</style>\n",
       "<table border=\"1\" class=\"dataframe\">\n",
       "  <thead>\n",
       "    <tr style=\"text-align: right;\">\n",
       "      <th></th>\n",
       "      <th>SSP2-Baseline (3.8°C)-Cout Carbone (US$2010/tCO2)</th>\n",
       "      <th>SSP2-Baseline (3.8°C)-Temps de retour températures extrêmes (années)</th>\n",
       "      <th>SSP2-Baseline (3.8°C)-Augmentation intensité températures extrêmes</th>\n",
       "      <th>SSP2-34 (2.2°C)-Cout Carbone (US$2010/tCO2)</th>\n",
       "      <th>SSP2-34 (2.2°C)-Temps de retour températures extrêmes (années)</th>\n",
       "      <th>SSP2-34 (2.2°C)-Augmentation intensité températures extrêmes</th>\n",
       "      <th>SSP2-26 (1.8°C)-Cout Carbone (US$2010/tCO2)</th>\n",
       "      <th>SSP2-26 (1.8°C)-Temps de retour températures extrêmes (années)</th>\n",
       "      <th>SSP2-26 (1.8°C)-Augmentation intensité températures extrêmes</th>\n",
       "    </tr>\n",
       "    <tr>\n",
       "      <th>Year</th>\n",
       "      <th></th>\n",
       "      <th></th>\n",
       "      <th></th>\n",
       "      <th></th>\n",
       "      <th></th>\n",
       "      <th></th>\n",
       "      <th></th>\n",
       "      <th></th>\n",
       "      <th></th>\n",
       "    </tr>\n",
       "  </thead>\n",
       "  <tbody>\n",
       "    <tr>\n",
       "      <th>2021</th>\n",
       "      <td>0</td>\n",
       "      <td>20</td>\n",
       "      <td>0.00</td>\n",
       "      <td>7</td>\n",
       "      <td>20</td>\n",
       "      <td>0.00</td>\n",
       "      <td>7</td>\n",
       "      <td>20</td>\n",
       "      <td>0</td>\n",
       "    </tr>\n",
       "    <tr>\n",
       "      <th>2030</th>\n",
       "      <td>0</td>\n",
       "      <td>15</td>\n",
       "      <td>0.02</td>\n",
       "      <td>85</td>\n",
       "      <td>15</td>\n",
       "      <td>0.01</td>\n",
       "      <td>390</td>\n",
       "      <td>17</td>\n",
       "      <td>0</td>\n",
       "    </tr>\n",
       "    <tr>\n",
       "      <th>2040</th>\n",
       "      <td>0</td>\n",
       "      <td>10</td>\n",
       "      <td>0.04</td>\n",
       "      <td>135</td>\n",
       "      <td>10</td>\n",
       "      <td>0.02</td>\n",
       "      <td>640</td>\n",
       "      <td>14</td>\n",
       "      <td>0</td>\n",
       "    </tr>\n",
       "    <tr>\n",
       "      <th>2050</th>\n",
       "      <td>0</td>\n",
       "      <td>5</td>\n",
       "      <td>0.06</td>\n",
       "      <td>240</td>\n",
       "      <td>5</td>\n",
       "      <td>0.03</td>\n",
       "      <td>1124</td>\n",
       "      <td>11</td>\n",
       "      <td>0</td>\n",
       "    </tr>\n",
       "    <tr>\n",
       "      <th>2060</th>\n",
       "      <td>0</td>\n",
       "      <td>2</td>\n",
       "      <td>0.08</td>\n",
       "      <td>390</td>\n",
       "      <td>2</td>\n",
       "      <td>0.04</td>\n",
       "      <td>1850</td>\n",
       "      <td>8</td>\n",
       "      <td>0</td>\n",
       "    </tr>\n",
       "  </tbody>\n",
       "</table>\n",
       "</div>"
      ],
      "text/plain": [
       "      SSP2-Baseline (3.8°C)-Cout Carbone (US$2010/tCO2)  \\\n",
       "Year                                                      \n",
       "2021                                                  0   \n",
       "2030                                                  0   \n",
       "2040                                                  0   \n",
       "2050                                                  0   \n",
       "2060                                                  0   \n",
       "\n",
       "      SSP2-Baseline (3.8°C)-Temps de retour températures extrêmes (années)  \\\n",
       "Year                                                                         \n",
       "2021                                                 20                      \n",
       "2030                                                 15                      \n",
       "2040                                                 10                      \n",
       "2050                                                  5                      \n",
       "2060                                                  2                      \n",
       "\n",
       "      SSP2-Baseline (3.8°C)-Augmentation intensité températures extrêmes  \\\n",
       "Year                                                                       \n",
       "2021                                               0.00                    \n",
       "2030                                               0.02                    \n",
       "2040                                               0.04                    \n",
       "2050                                               0.06                    \n",
       "2060                                               0.08                    \n",
       "\n",
       "      SSP2-34 (2.2°C)-Cout Carbone (US$2010/tCO2)  \\\n",
       "Year                                                \n",
       "2021                                            7   \n",
       "2030                                           85   \n",
       "2040                                          135   \n",
       "2050                                          240   \n",
       "2060                                          390   \n",
       "\n",
       "      SSP2-34 (2.2°C)-Temps de retour températures extrêmes (années)  \\\n",
       "Year                                                                   \n",
       "2021                                                 20                \n",
       "2030                                                 15                \n",
       "2040                                                 10                \n",
       "2050                                                  5                \n",
       "2060                                                  2                \n",
       "\n",
       "      SSP2-34 (2.2°C)-Augmentation intensité températures extrêmes  \\\n",
       "Year                                                                 \n",
       "2021                                               0.00              \n",
       "2030                                               0.01              \n",
       "2040                                               0.02              \n",
       "2050                                               0.03              \n",
       "2060                                               0.04              \n",
       "\n",
       "      SSP2-26 (1.8°C)-Cout Carbone (US$2010/tCO2)  \\\n",
       "Year                                                \n",
       "2021                                            7   \n",
       "2030                                          390   \n",
       "2040                                          640   \n",
       "2050                                         1124   \n",
       "2060                                         1850   \n",
       "\n",
       "      SSP2-26 (1.8°C)-Temps de retour températures extrêmes (années)  \\\n",
       "Year                                                                   \n",
       "2021                                                 20                \n",
       "2030                                                 17                \n",
       "2040                                                 14                \n",
       "2050                                                 11                \n",
       "2060                                                  8                \n",
       "\n",
       "      SSP2-26 (1.8°C)-Augmentation intensité températures extrêmes  \n",
       "Year                                                                \n",
       "2021                                                  0             \n",
       "2030                                                  0             \n",
       "2040                                                  0             \n",
       "2050                                                  0             \n",
       "2060                                                  0             "
      ]
     },
     "execution_count": 36,
     "metadata": {},
     "output_type": "execute_result"
    }
   ],
   "source": [
    "scenarios = pd.read_excel('scenarios_edited.xlsx')\n",
    "scenarios = scenarios.set_index('Year')\n",
    "scenarios.head()"
   ]
  },
  {
   "cell_type": "markdown",
   "metadata": {
    "id": "FpTfAM08hYTg"
   },
   "source": [
    "### Extract carbon prices "
   ]
  },
  {
   "cell_type": "code",
   "execution_count": 37,
   "metadata": {
    "id": "7Ze-gXHBhYTh"
   },
   "outputs": [],
   "source": [
    "carbon_cols = scenarios.columns[scenarios.columns.str.contains('Carbone')]\n",
    "carbon_prices = scenarios[carbon_cols]"
   ]
  },
  {
   "cell_type": "markdown",
   "metadata": {
    "id": "SCf5XlMzhYTh"
   },
   "source": [
    "### Create array with linspace"
   ]
  },
  {
   "cell_type": "code",
   "execution_count": 133,
   "metadata": {
    "colab": {
     "base_uri": "https://localhost:8080/"
    },
    "id": "DJNPDWomhYTh",
    "outputId": "8cd8790f-e0f9-4820-a2ba-3190bde62ca9"
   },
   "outputs": [
    {
     "data": {
      "text/plain": [
       "<matplotlib.axes._subplots.AxesSubplot at 0x7ff11372b3d0>"
      ]
     },
     "execution_count": 133,
     "metadata": {},
     "output_type": "execute_result"
    },
    {
     "data": {
      "image/png": "[encoded data removed]",
      "text/plain": [
       "<Figure size 432x288 with 1 Axes>"
      ]
     },
     "metadata": {
      "needs_background": "light"
     },
     "output_type": "display_data"
    }
   ],
   "source": [
    "c_prices = {}\n",
    "for col in carbon_cols :\n",
    "    tmp = [] # temporary list to store carbon prices\n",
    "    for i , (year,price) in enumerate(zip(carbon_prices.index,carbon_prices[col])):\n",
    "        convert_usdeur = 0.82/1000 # Usd to k€  \n",
    "        if i < len(carbon_prices.index)-1:\n",
    "            if i==0:\n",
    "                tmp+=np.linspace(price*convert_usdeur,carbon_prices[col].values[i+1]*convert_usdeur,carbon_prices.index[i+1]-year+1).tolist()\n",
    "            else :\n",
    "                tmp+=np.linspace(price*convert_usdeur,carbon_prices[col].values[i+1]*convert_usdeur,carbon_prices.index[i+1]-year+1).tolist()[1:]\n",
    "    c_prices[col] = tmp\n",
    "carbon_df = pd.DataFrame(c_prices)\n",
    "carbon_df.index += 2021\n",
    "carbon_df = carbon_df.rename_axis(\"Year\")\n",
    "\n",
    "# Created df with carbon price evolution (linear between gap prices)\n",
    "carbon_df.plot()\n",
    "# TODO : legender"
   ]
  },
  {
   "cell_type": "markdown",
   "metadata": {
    "id": "e9b8Hqr8hYTi"
   },
   "source": [
    "# Transition risk  - From carbon tax to asset devaluation\n",
    "\n",
    "### Need to compute carbon footprint each year : \n",
    "\n",
    "* Sum of carbon footprint on each country of activity : i = 0; one company only\n",
    "\n",
    "$CC(k,t) = \\sum_{j\\in M} Scope_1(j,t)\\times CP(j,k,t) $\n",
    "\n",
    "k is scenario chosen ; j a region ; t is time\n",
    "\n",
    "* To simplify our study - Only consider one country ? \n",
    "\n",
    "### Shock to EBITDA \n",
    "\n",
    "* Firm is equal to a given multiplier times EBITDA \n",
    "\n",
    "$\\zeta(k,t) = \\frac{CC(k,t)}{EBITDA(k=0,t=0)}$\n",
    "\n",
    "### Link with initial firm value \n",
    "\n",
    "$V(k,t) = (1-\\zeta(k,t))\\times V(k=0,t=0) $"
   ]
  },
  {
   "cell_type": "code",
   "execution_count": 39,
   "metadata": {
    "id": "itaBPO4ahYTi"
   },
   "outputs": [],
   "source": [
    "### Create scenario\n",
    "def create_scenarios(carbon_dict,T):\n",
    "    ## Create a scenario based on dict : {initial_value1:[growth],initial_value2:[growth]}\n",
    "    carbon_scenarios = [] # Stores all carbon scenario \n",
    "    for (i,base_value) in enumerate(carbon_dict):\n",
    "        for (j,growth_rate) in enumerate(carbon_dict[base_value]):\n",
    "            scenario = [base_value*(1+growth_rate)**t for t in range(T)]\n",
    "            carbon_scenarios.append(scenario)\n",
    "    return(carbon_scenarios)\n",
    "\n",
    "### Plot scenarios\n",
    "def plot_scenarios(carbon_scenarios,T,prefix='Carbon tax',ylabel='Carbon tax [USD]'):\n",
    "    time  = [i+2021 for i in range(T)]\n",
    "    for (i,scenario) in enumerate(carbon_scenarios):\n",
    "        plt.plot(time,scenario,label=f\"{prefix} {i+1}\")\n",
    "    plt.xlabel('Year')\n",
    "    plt.ylabel(ylabel)\n",
    "    plt.legend()\n",
    "    plt.show()"
   ]
  },
  {
   "cell_type": "markdown",
   "metadata": {},
   "source": [
    "## Scope analysis "
   ]
  },
  {
   "cell_type": "code",
   "execution_count": null,
   "metadata": {},
   "outputs": [],
   "source": [
    "def analyse_pd_firm(carbon_df,V,D,T,firm_dict,prefix,sigma_v,r)\n",
    "    \"\"\"Input V,D,T,firm_dict,sigma_v,r,prefix (for plot)\"\"\"\n",
    "    ### First create scenarios for carbon decarbonation : \n",
    "    firm_carbon_scenario = create_scenario(firm_dict,T)\n",
    "    \"\"\"Plot some scenarios\"\"\"\n",
    "    plot_scenarios(danone_carbon_scenarios,T=T,prefix=prefix,ylabel='TCo2Eq')\n",
    "    ## Compute cost of carbon per year regarding carbon_tax price \n",
    "    array_carbon_df = [carbon_df[col].tolist() for col in carbon_df.columns]\n",
    "    results = carbon_cost(array_carbon_df,danone_carbon_scenarios) #array with cost of carbon\n",
    "    # df contains scenario_i_j : i carbon price trajectoire, j firm carbon scope\n",
    "    df = pd.DataFrame(results)\n",
    "    df.index = carbon_df.index\n",
    "    \n",
    "    ##### First part : transition risk only #####\n",
    "    \n",
    "    time  = [i+2021 for i in range(T)]\n",
    "    for col in df.columns:\n",
    "        plt.plot(time,df[col],label=col)\n",
    "    plt.ylabel('Carbon cost [€]')\n",
    "    plt.legend()\n",
    "    plt.show() # Carbon price\n",
    "    \n"
   ]
  },
  {
   "cell_type": "code",
   "execution_count": null,
   "metadata": {},
   "outputs": [],
   "source": []
  },
  {
   "cell_type": "code",
   "execution_count": 54,
   "metadata": {},
   "outputs": [],
   "source": [
    "danone_dict = {722000:[0,-0.0412]} # danone : 722kTCo2 - Constant vs décroissance de 4.12%/an (actuelle de Danone)"
   ]
  },
  {
   "cell_type": "code",
   "execution_count": 55,
   "metadata": {
    "colab": {
     "base_uri": "https://localhost:8080/",
     "height": 279
    },
    "id": "pJMZBJWIhYTj",
    "outputId": "94290355-cca7-4040-a476-8f4326451d00"
   },
   "outputs": [
    {
     "data": {
      "image/png": "[encoded data removed]",
      "text/plain": [
       "<Figure size 432x288 with 1 Axes>"
      ]
     },
     "metadata": {
      "needs_background": "light"
     },
     "output_type": "display_data"
    }
   ],
   "source": [
    "T = 40 # Set horizon\n",
    "danone_carbon_scenarios = create_scenarios(danone_dict,T=40)\n",
    "plot_scenarios(danone_carbon_scenarios,T=40,prefix='Danone carbon',ylabel='TCo2Eq')"
   ]
  },
  {
   "cell_type": "markdown",
   "metadata": {
    "id": "dCWJOK9fhYTj"
   },
   "source": [
    "## Compute each carbon cost for each scenario"
   ]
  },
  {
   "cell_type": "code",
   "execution_count": 56,
   "metadata": {
    "id": "iaXvdAO1hYTk"
   },
   "outputs": [],
   "source": [
    "def carbon_cost(carbon_scenarios,firm_scenario):\n",
    "    \"\"\"Carbon scenarios : liste des prix du carbone sur la durée de temps considérée\n",
    "       Firm scenario : Trajectoire de décarbonation envisagé par l'entreprise\n",
    "       \n",
    "    Output : array avec le coût de chaque possibilité\"\"\"\n",
    "    results = {}\n",
    "    for (i,carbon_tax) in enumerate(carbon_scenarios):\n",
    "        ## Loop on each carbon tax & compute a price \n",
    "        for (j,scenario) in enumerate(firm_scenario):\n",
    "            cost = []\n",
    "            for (carbon_price,scope) in zip(carbon_tax,scenario):\n",
    "                cost.append(carbon_price*scope)\n",
    "            results[f'scenario_{i}_{j}'] = cost # scenario i (which carbon tax) ; j (which alignement scenario)\n",
    "    return(results)"
   ]
  },
  {
   "cell_type": "code",
   "execution_count": 57,
   "metadata": {
    "colab": {
     "base_uri": "https://localhost:8080/",
     "height": 215
    },
    "id": "QMyUVfuWhYTk",
    "outputId": "f5df4482-d662-47d9-9ca7-33044ba9257e",
    "scrolled": false
   },
   "outputs": [],
   "source": [
    "### Use carbon df & firm scenarios\n",
    "# create array with carbon df\n",
    "array_carbon_df = [carbon_df[col].tolist() for col in carbon_df.columns]\n",
    "results = carbon_cost(array_carbon_df,danone_carbon_scenarios)"
   ]
  },
  {
   "cell_type": "code",
   "execution_count": 58,
   "metadata": {
    "id": "SheAz6fehYTk"
   },
   "outputs": [],
   "source": [
    "df = pd.DataFrame(results)\n",
    "df.index = carbon_df.index"
   ]
  },
  {
   "cell_type": "code",
   "execution_count": 59,
   "metadata": {
    "colab": {
     "base_uri": "https://localhost:8080/",
     "height": 238
    },
    "id": "tCbu4BElhYTl",
    "outputId": "e3deaf12-f1bf-4e30-ed6c-6ba43fdcef62",
    "scrolled": false
   },
   "outputs": [
    {
     "data": {
      "text/html": [
       "<div>\n",
       "<style scoped>\n",
       "    .dataframe tbody tr th:only-of-type {\n",
       "        vertical-align: middle;\n",
       "    }\n",
       "\n",
       "    .dataframe tbody tr th {\n",
       "        vertical-align: top;\n",
       "    }\n",
       "\n",
       "    .dataframe thead th {\n",
       "        text-align: right;\n",
       "    }\n",
       "</style>\n",
       "<table border=\"1\" class=\"dataframe\">\n",
       "  <thead>\n",
       "    <tr style=\"text-align: right;\">\n",
       "      <th></th>\n",
       "      <th>scenario_0_0</th>\n",
       "      <th>scenario_0_1</th>\n",
       "      <th>scenario_1_0</th>\n",
       "      <th>scenario_1_1</th>\n",
       "      <th>scenario_2_0</th>\n",
       "      <th>scenario_2_1</th>\n",
       "    </tr>\n",
       "    <tr>\n",
       "      <th>Year</th>\n",
       "      <th></th>\n",
       "      <th></th>\n",
       "      <th></th>\n",
       "      <th></th>\n",
       "      <th></th>\n",
       "      <th></th>\n",
       "    </tr>\n",
       "  </thead>\n",
       "  <tbody>\n",
       "    <tr>\n",
       "      <th>2021</th>\n",
       "      <td>0.0</td>\n",
       "      <td>0.0</td>\n",
       "      <td>4144.280000</td>\n",
       "      <td>4144.280000</td>\n",
       "      <td>4144.280000</td>\n",
       "      <td>4144.280000</td>\n",
       "    </tr>\n",
       "    <tr>\n",
       "      <th>2022</th>\n",
       "      <td>0.0</td>\n",
       "      <td>0.0</td>\n",
       "      <td>9275.293333</td>\n",
       "      <td>8893.151248</td>\n",
       "      <td>29338.871111</td>\n",
       "      <td>28130.109621</td>\n",
       "    </tr>\n",
       "    <tr>\n",
       "      <th>2023</th>\n",
       "      <td>0.0</td>\n",
       "      <td>0.0</td>\n",
       "      <td>14406.306667</td>\n",
       "      <td>13243.680839</td>\n",
       "      <td>54533.462222</td>\n",
       "      <td>50132.472215</td>\n",
       "    </tr>\n",
       "    <tr>\n",
       "      <th>2024</th>\n",
       "      <td>0.0</td>\n",
       "      <td>0.0</td>\n",
       "      <td>19537.320000</td>\n",
       "      <td>17220.631200</td>\n",
       "      <td>79728.053333</td>\n",
       "      <td>70274.090958</td>\n",
       "    </tr>\n",
       "    <tr>\n",
       "      <th>2025</th>\n",
       "      <td>0.0</td>\n",
       "      <td>0.0</td>\n",
       "      <td>24668.333333</td>\n",
       "      <td>20847.400498</td>\n",
       "      <td>104922.644444</td>\n",
       "      <td>88670.943453</td>\n",
       "    </tr>\n",
       "  </tbody>\n",
       "</table>\n",
       "</div>"
      ],
      "text/plain": [
       "      scenario_0_0  scenario_0_1  scenario_1_0  scenario_1_1   scenario_2_0  \\\n",
       "Year                                                                          \n",
       "2021           0.0           0.0   4144.280000   4144.280000    4144.280000   \n",
       "2022           0.0           0.0   9275.293333   8893.151248   29338.871111   \n",
       "2023           0.0           0.0  14406.306667  13243.680839   54533.462222   \n",
       "2024           0.0           0.0  19537.320000  17220.631200   79728.053333   \n",
       "2025           0.0           0.0  24668.333333  20847.400498  104922.644444   \n",
       "\n",
       "      scenario_2_1  \n",
       "Year                \n",
       "2021   4144.280000  \n",
       "2022  28130.109621  \n",
       "2023  50132.472215  \n",
       "2024  70274.090958  \n",
       "2025  88670.943453  "
      ]
     },
     "execution_count": 59,
     "metadata": {},
     "output_type": "execute_result"
    }
   ],
   "source": [
    "df.head(5)"
   ]
  },
  {
   "cell_type": "code",
   "execution_count": 65,
   "metadata": {},
   "outputs": [
    {
     "data": {
      "text/plain": [
       "1056984"
      ]
     },
     "execution_count": 65,
     "metadata": {},
     "output_type": "execute_result"
    }
   ],
   "source": [
    "V"
   ]
  },
  {
   "cell_type": "markdown",
   "metadata": {},
   "source": [
    "scenario_0_0 : Scénario carbon 0 & trajectoire carbon 0"
   ]
  },
  {
   "cell_type": "markdown",
   "metadata": {
    "id": "I4uSLurVhYTl"
   },
   "source": [
    "##### Pour chaque scénario on calcule le coût de carbone associé"
   ]
  },
  {
   "cell_type": "code",
   "execution_count": 60,
   "metadata": {
    "colab": {
     "base_uri": "https://localhost:8080/",
     "height": 269
    },
    "id": "JkY8-207hYTl",
    "outputId": "853bdd0d-c794-470e-928a-67e161a60d10",
    "scrolled": true
   },
   "outputs": [
    {
     "data": {
      "image/png": "[encoded data removed]",
      "text/plain": [
       "<Figure size 432x288 with 1 Axes>"
      ]
     },
     "metadata": {
      "needs_background": "light"
     },
     "output_type": "display_data"
    }
   ],
   "source": [
    "time  = [i+2021 for i in range(T)]\n",
    "for col in df.columns:\n",
    "    plt.plot(time,df[col],label=col)\n",
    "plt.ylabel('Carbon cost [€]')\n",
    "plt.legend()\n",
    "plt.show() # Carbon price"
   ]
  },
  {
   "cell_type": "markdown",
   "metadata": {
    "id": "VkhH-BWRhYTn"
   },
   "source": [
    "### Compute zeta & PD "
   ]
  },
  {
   "cell_type": "code",
   "execution_count": 61,
   "metadata": {
    "id": "rIWcu5UXhYTo"
   },
   "outputs": [],
   "source": [
    "import math\n",
    "# Only transition risk\n",
    "def compute_pd_transition(carbon_cost,V,D,multiple=6,T=1,PD0=0.02,sigma_v=0.5,r=0):\n",
    "    # list of zeta, compute evolution of PD\n",
    "    PD = [PD0]\n",
    "    for i in range(1,len(carbon_cost)):\n",
    "        zeta = carbon_cost[i]/(V/multiple)\n",
    "        if zeta > 1 :\n",
    "            #### Cannot handle carbon tax : \n",
    "            PD.append(1)\n",
    "        # Compute pd ième \n",
    "        else:\n",
    "            DD = ( np.log( (1-zeta)*V/D )+ (r+0.5*sigma_v**2)*T )/(sigma_v*np.sqrt(T))\n",
    "            pdi = norm.cdf(-DD)\n",
    "            PD.append(pdi)             \n",
    "    return(PD)"
   ]
  },
  {
   "cell_type": "markdown",
   "metadata": {
    "id": "tBKTtB6thYTp"
   },
   "source": [
    "### Quelques visualisations"
   ]
  },
  {
   "cell_type": "code",
   "execution_count": 66,
   "metadata": {
    "id": "EpzVn_P6hYTq"
   },
   "outputs": [],
   "source": [
    "prob_defaults = []\n",
    "time = df.index.tolist()\n",
    "for (i,col) in enumerate(df.columns) : \n",
    "    prob_defaults.append(compute_pd_transition(df.iloc[:,i].values,V,D,multiple=7,T=40,PD0=PD_value,sigma_v=0.2,r=0.02))"
   ]
  },
  {
   "cell_type": "code",
   "execution_count": 67,
   "metadata": {
    "colab": {
     "base_uri": "https://localhost:8080/",
     "height": 336
    },
    "id": "YhapauYXhYTq",
    "outputId": "ec4d46f2-d71b-4615-83f0-23afc963d30c"
   },
   "outputs": [
    {
     "data": {
      "image/png": "[encoded data removed]",
      "text/plain": [
       "<Figure size 1440x360 with 2 Axes>"
      ]
     },
     "metadata": {
      "needs_background": "light"
     },
     "output_type": "display_data"
    }
   ],
   "source": [
    "plt.figure(figsize=(20,5))\n",
    "plt.subplot(121)\n",
    "for i,pd_ar in enumerate(prob_defaults) :\n",
    "    plt.plot(time,pd_ar,label=df.columns[i])\n",
    "plt.legend()\n",
    "plt.title(\"PD en fonction du couple carbon & décarbonation\")\n",
    "plt.subplot(122)\n",
    "for col in df.columns:\n",
    "    plt.plot(time,df[col],label = col)\n",
    "plt.title(\"Coût fonction du couple carbon & décarbonation\")\n",
    "plt.legend()\n",
    "plt.show()"
   ]
  },
  {
   "cell_type": "code",
   "execution_count": null,
   "metadata": {},
   "outputs": [],
   "source": [
    "def analyse_pd_firm(carbon_df,V,D,T,PD_value,multiple,firm_dict,prefix,sigma_v,r)\n",
    "    \"\"\"Input V,D,T,firm_dict,sigma_v,r,prefix (for plot)\"\"\"\n",
    "    ### First create scenarios for carbon decarbonation : \n",
    "    firm_carbon_scenario = create_scenario(firm_dict,T)\n",
    "    \"\"\"Plot some scenarios\"\"\"\n",
    "    plot_scenarios(danone_carbon_scenarios,T=T,prefix=prefix,ylabel='TCo2Eq')\n",
    "    ## Compute cost of carbon per year regarding carbon_tax price \n",
    "    array_carbon_df = [carbon_df[col].tolist() for col in carbon_df.columns]\n",
    "    results = carbon_cost(array_carbon_df,danone_carbon_scenarios) #array with cost of carbon\n",
    "    # df contains scenario_i_j : i carbon price trajectoire, j firm carbon scope\n",
    "    df = pd.DataFrame(results)\n",
    "    df.index = carbon_df.index\n",
    "    \n",
    "    ##### First part : transition risk only #####\n",
    "    \n",
    "    prob_defaults_transition_only = []\n",
    "    time = df.index.tolist()\n",
    "    for (i,col) in enumerate(df.columns) : \n",
    "        prob_defaults_transition_only.append(compute_pd_transition(df.iloc[:,i].values,V,D,multiple=multiple,T=T,PD0=PD_value,sigma_v=sigma_v,r=r))\n",
    "    plt.figure(figsize=(20,5))\n",
    "    plt.subplot(121)\n",
    "    for i,pd_ar in enumerate(prob_defaults_transition_only) :\n",
    "        plt.plot(time,pd_ar,label=df.columns[i])\n",
    "    plt.legend()\n",
    "    plt.title(\"PD en fonction du couple carbon & décarbonation\")\n",
    "    plt.subplot(122)\n",
    "    for col in df.columns:\n",
    "        plt.plot(time,df[col],label = col)\n",
    "    plt.title(\"Coût fonction du couple carbon & décarbonation\")\n",
    "    plt.legend()\n",
    "    plt.show()\n",
    "    \n",
    "    ##### Second part : physical risk only #####\n",
    "        prob_defaults_transition_only = []\n",
    "\n",
    "    compute_pd1RisquePhysique(V,0,0.2,0.02,40,D)\n",
    "    \n",
    "    "
   ]
  },
  {
   "cell_type": "markdown",
   "metadata": {
    "id": "o6haTRk7KDY4"
   },
   "source": [
    "Résultat beaucoup plus cohérent"
   ]
  },
  {
   "cell_type": "markdown",
   "metadata": {
    "id": "8LqCogTrhYTr"
   },
   "source": [
    "## Physical risk\n",
    "\n",
    "\n",
    "Sur l'horizon des 40 années, une catastrophe arrive \n",
    "\n",
    "* L'année t est choisie avec une loi de poisson ? ou random au bout 2035-2060.\n",
    "\n",
    "#### Amplitude dépend du scénario de transition : \n",
    "\n",
    "* 20% de la valeur des actifs si prix carbon bas (BaU) (**edit**: modifié à 84% car sinon rien de probant)\n",
    "* 10% de la valeur des assets si prix carbon medium\n",
    "* 4% de la valeur des assets si prix carbon haut\n"
   ]
  },
  {
   "cell_type": "code",
   "execution_count": 68,
   "metadata": {
    "id": "y0V4OtlchYTs"
   },
   "outputs": [],
   "source": [
    "# Gabriel\n",
    "def compute_poisson_loss(V,scenario):\n",
    "    # Calcul de la perte liée au risque physique\n",
    "    \"\"\"Scenario 0 : BaU\n",
    "       Scenario 1 : Medium\n",
    "       Scenario 2 : Low \"\"\"\n",
    "\n",
    "    Temps=40\n",
    "\n",
    "    Freq0={0:1/15, 1:1/10, 2:1/5, 3:1/2}\n",
    "    Freq1={0:1/15, 1:1/10, 2:1/5, 3:1/2}\n",
    "    Freq2={0:1/17, 1:1/14, 2:1/11, 3:1/8}\n",
    "    AmplitudePerte= {0:0.12, 1:0.08, 2:0.04}##correspond au 1-zeta, zeta =PertePhysique/ebtitda\n",
    "    \n",
    "     \n",
    "    Frequence={0:Freq0, 1:Freq1, 2:Freq2}\n",
    "    f=Frequence[scenario]\n",
    "\n",
    "    N=10\n",
    "  \n",
    "    #xk est une liste de 10 éléments, 10 pour 10 ans etk l'intervalle x2 c'est de 2030 à 2040,\n",
    "    #Chaque élément de la liste correpond au nombre de secheresse par an \n",
    "    x0=np.random.poisson(f[0],N)\n",
    "    x1=np.random.poisson(f[1],N)\n",
    "    x2=np.random.poisson(f[2],N)\n",
    "    x3=np.random.poisson(f[3],N)\n",
    "\n",
    "\n",
    "    loss=np.zeros(Temps+1)\n",
    "\n",
    "    #Calcul une liste avec les différents V en fonction du temps \n",
    "    for k in range(N):\n",
    "        loss[k+1]=-x0[k]*AmplitudePerte[scenario]*V\n",
    "        ##Ci dessus le calcul de la perte un pourcentage de V, fois le nombre de secheresse\n",
    "\n",
    "    for k in range(N):\n",
    "        loss[k+1+N]=-x1[k]*AmplitudePerte[scenario]*V\n",
    "\n",
    "\n",
    "    for k in range(N):\n",
    "        loss[k+1+2*N]=-x2[k]*AmplitudePerte[scenario]*V\n",
    "\n",
    "    for k in range(N):\n",
    "        loss[k+1+3*N]=-x3[k]*AmplitudePerte[scenario]*V\n",
    "      \n",
    "  \n",
    "    poisson_dict = loss\n",
    "    #\"\"\"Return a dict to access easily to data\"\"\"\n",
    "    return(poisson_dict)"
   ]
  },
  {
   "cell_type": "code",
   "execution_count": 69,
   "metadata": {
    "colab": {
     "base_uri": "https://localhost:8080/"
    },
    "id": "4Be1RAKkhYTs",
    "outputId": "cb316a74-8bbd-44c4-c0b8-267114187267",
    "scrolled": true
   },
   "outputs": [
    {
     "name": "stdout",
     "output_type": "stream",
     "text": [
      "[      0.         0.         0.         0.         0.         0.\n",
      "       0.         0.         0.         0.         0.         0.\n",
      "       0.         0.         0.         0.         0.         0.\n",
      "       0.         0.         0.         0.   -126838.08       0.\n",
      "       0.         0.   -126838.08       0.         0.         0.\n",
      "       0.         0.         0.   -253676.16 -126838.08 -126838.08\n",
      " -126838.08 -126838.08 -126838.08 -126838.08       0.  ]\n"
     ]
    }
   ],
   "source": [
    "#Scénario\n",
    "scenario=0;\n",
    "VApresSecheresse=compute_poisson_loss(V,scenario)\n",
    "print(VApresSecheresse)"
   ]
  },
  {
   "cell_type": "markdown",
   "metadata": {
    "id": "CVSy2rQEhYTt"
   },
   "source": [
    "### Add physical risk to probability of default"
   ]
  },
  {
   "cell_type": "code",
   "execution_count": 119,
   "metadata": {
    "id": "EHh_W903gw5L"
   },
   "outputs": [],
   "source": [
    "import math\n",
    "carbon_cost=np.zeros(41)\n",
    "# Calcul de la PD avec un risque physique\n",
    "def compute_pd1RisquePhysique(V,scenario,sigma_v,r,T,D):\n",
    "    loss=compute_poisson_loss(V,scenario)\n",
    "    VV=np.zeros(len(loss))\n",
    "    PD=np.zeros(len(loss))\n",
    "    DD=np.zeros(len(loss))\n",
    "    VV[0]=V\n",
    "    for k in range(1,len(loss)):\n",
    "        VV[k]=VV[k-1]+loss[k]\n",
    "\n",
    "    for i in range(len(VV)):\n",
    "        DD[i] = (np.log( VV[i]/D )+ (r+0.5*sigma_v**2)*T )/(sigma_v*np.sqrt(T))\n",
    "        PD[i]=norm.cdf(-DD[i])\n",
    "\n",
    "    return(PD)\n",
    "\n",
    "# Couplage risque physique & risque de transition\n",
    "def compute_pd1RisquePhysiqueTransition(V,scenario,sigma_v,r,T,D,carbon_cost,multiple):\n",
    "    loss=compute_poisson_loss(V,scenario)\n",
    "    VV=np.zeros(len(loss))\n",
    "    PD=np.zeros(T)\n",
    "    DD=np.zeros(T)\n",
    "    VV[0]=V\n",
    "    for k in range(1,len(loss)):\n",
    "        VV[k]=VV[k-1]+loss[k]\n",
    "    VV = VV[1:]\n",
    "    for i in range(len(VV)):\n",
    "        zeta = carbon_cost[i]/(V/multiple)\n",
    "        ### VV[i]/V = 1-zeta'\n",
    "        ### Pas de calcul de DD si (VV[i]/V - zeta) < 0\n",
    "        if VV[i]/V-zeta <0:\n",
    "            PD[i] = 1 # défault \n",
    "        else :\n",
    "            DD[i] = (np.log( (((VV[i]/V)-zeta)*V)/D )+ (r+0.5*sigma_v**2)*T )/(sigma_v*np.sqrt(T))\n",
    "            pdi = norm.cdf(-DD[i])\n",
    "            PD[i] = pdi\n",
    "    return(PD)"
   ]
  },
  {
   "cell_type": "code",
   "execution_count": 138,
   "metadata": {},
   "outputs": [
    {
     "data": {
      "text/plain": [
       "'i'"
      ]
     },
     "execution_count": 138,
     "metadata": {},
     "output_type": "execute_result"
    }
   ],
   "source": [
    "'scenario_i_j'.split('_')[1]"
   ]
  },
  {
   "cell_type": "code",
   "execution_count": 140,
   "metadata": {},
   "outputs": [
    {
     "ename": "SyntaxError",
     "evalue": "invalid syntax (<ipython-input-140-125bdbb12f1a>, line 38)",
     "output_type": "error",
     "traceback": [
      "\u001b[0;36m  File \u001b[0;32m\"<ipython-input-140-125bdbb12f1a>\"\u001b[0;36m, line \u001b[0;32m38\u001b[0m\n\u001b[0;31m    for\u001b[0m\n\u001b[0m        ^\u001b[0m\n\u001b[0;31mSyntaxError\u001b[0m\u001b[0;31m:\u001b[0m invalid syntax\n"
     ]
    }
   ],
   "source": [
    "def analyse_pd_firm(carbon_df,V,D,T,PD_value,multiple,firm_dict,prefix,sigma_v,r):\n",
    "    \"\"\"Input V,D,T,firm_dict,sigma_v,r,prefix (for plot)\"\"\"\n",
    "    ### First create scenarios for carbon decarbonation : \n",
    "    firm_carbon_scenario = create_scenario(firm_dict,T)\n",
    "    \"\"\"Plot some scenarios\"\"\"\n",
    "    plot_scenarios(danone_carbon_scenarios,T=T,prefix=prefix,ylabel='TCo2Eq')\n",
    "    ## Compute cost of carbon per year regarding carbon_tax price \n",
    "    array_carbon_df = [carbon_df[col].tolist() for col in carbon_df.columns]\n",
    "    results = carbon_cost(array_carbon_df,danone_carbon_scenarios) #array with cost of carbon\n",
    "    # df contains scenario_i_j : i carbon price trajectoire, j firm carbon scope\n",
    "    df = pd.DataFrame(results)\n",
    "    df.index = carbon_df.index\n",
    "    \n",
    "    ##### First part : transition risk only #####\n",
    "    \n",
    "    prob_defaults_transition_only = []\n",
    "    time = df.index.tolist()\n",
    "    for (i,col) in enumerate(df.columns) : \n",
    "        prob_defaults_transition_only.append(compute_pd_transition(df.iloc[:,i].values,V,D,multiple=multiple,T=T,PD0=PD_value,sigma_v=sigma_v,r=r))\n",
    "    plt.figure(figsize=(20,5))\n",
    "    plt.subplot(121)\n",
    "    for i,pd_ar in enumerate(prob_defaults_transition_only) :\n",
    "        plt.plot(time,pd_ar,label=df.columns[i])\n",
    "    plt.legend()\n",
    "    plt.title(\"PD en fonction du couple carbon & décarbonation\")\n",
    "    plt.subplot(122)\n",
    "    for col in df.columns:\n",
    "        plt.plot(time,df[col],label = col)\n",
    "    plt.title(\"Coût fonction du couple carbon & décarbonation\")\n",
    "    plt.legend()\n",
    "    plt.show()\n",
    "    \n",
    "    ##### Second part : physical risk only #####\n",
    "    \n",
    "    prob_defaults_physical_only = []\n",
    "    for i in range(3) : # 3 scenarios for physical risk to deal with \n",
    "        prob_defaults_physical_only.append(compute_pd1RisquePhysique(V,i,sigma_v,r,T,D))\n",
    "    for \n",
    "    \"\"\"plot these prob of defaults\"\"\"\n",
    "    time1 = [i+2020 for i in range(len(prob_defaults_physical_only[0]))]\n",
    "    for i,pd_ar in enumerate(prob_defaults_physical_only) :\n",
    "            plt.plot(time1,pd_ar,label=f'Scenario {i}')\n",
    "    plt.title(\"PD et risque physique\")\n",
    "    \n",
    "    #### Third part : transition & physical together ####\n",
    "    prob_defaults_physical_transition = []\n",
    "    \n",
    "    for (i,col) in enumerate(df.columns) : \n",
    "        nb_scenario = int(col.split('_')[1]) # scenario_i_j -> scenario (i[1]) j\n",
    "        prob_defaults_physical_transition.append(compute_pd1RisquePhysiqueTransition(V,nb_scenario,sigma_v,r,T,D,df.iloc[:,i],multiple))\n",
    "    plt.figure(figsize=(20,5))\n",
    "    \n",
    "    for i,pd_ar in enumerate(prob_defaults_transition_only) :\n",
    "        plt.plot(time,pd_ar,label=df.columns[i])\n",
    "    plt.legend()\n",
    "    plt.title(\"PD - transition & physical risk\")\n",
    "\n",
    "    \n",
    "    "
   ]
  },
  {
   "cell_type": "code",
   "execution_count": 134,
   "metadata": {},
   "outputs": [
    {
     "name": "stderr",
     "output_type": "stream",
     "text": [
      "/home/elouan/anaconda3/lib/python3.7/site-packages/ipykernel_launcher.py:14: RuntimeWarning: invalid value encountered in log\n",
      "  \n"
     ]
    }
   ],
   "source": [
    "t = compute_pd1RisquePhysique(V,0,0.2,0.02,40,D)"
   ]
  },
  {
   "cell_type": "code",
   "execution_count": 136,
   "metadata": {},
   "outputs": [
    {
     "data": {
      "text/plain": [
       "41"
      ]
     },
     "execution_count": 136,
     "metadata": {},
     "output_type": "execute_result"
    }
   ],
   "source": [
    "len(t)"
   ]
  },
  {
   "cell_type": "code",
   "execution_count": 132,
   "metadata": {
    "scrolled": true
   },
   "outputs": [
    {
     "data": {
      "text/plain": [
       "array([0.10111696, 0.10111696, 0.10111696, 0.10111696, 0.10111696,\n",
       "       0.10111696, 0.10111696, 0.10111696, 0.10111696, 0.12016714,\n",
       "       0.12016714, 0.12016714, 0.12016714, 0.12016714, 0.12016714,\n",
       "       0.12016714, 0.12016714, 0.12016714, 0.12016714, 0.12016714,\n",
       "       0.12016714, 0.1781621 , 0.1781621 , 0.22415409, 0.22415409,\n",
       "       0.22415409, 0.22415409, 0.22415409, 0.22415409, 0.22415409,\n",
       "       0.22415409, 0.29087806, 0.29087806, 0.29087806, 0.39402445,\n",
       "       0.39402445, 0.8978743 , 0.8978743 , 1.        , 1.        ])"
      ]
     },
     "execution_count": 132,
     "metadata": {},
     "output_type": "execute_result"
    }
   ],
   "source": [
    "compute_pd1RisquePhysiqueTransition(V ,0 ,0.2, 0.02, 40, D , df.iloc[:,0].values ,5)"
   ]
  },
  {
   "cell_type": "markdown",
   "metadata": {},
   "source": [
    "## Summarize all code"
   ]
  },
  {
   "cell_type": "code",
   "execution_count": null,
   "metadata": {},
   "outputs": [],
   "source": []
  },
  {
   "cell_type": "code",
   "execution_count": null,
   "metadata": {},
   "outputs": [],
   "source": []
  },
  {
   "cell_type": "code",
   "execution_count": null,
   "metadata": {},
   "outputs": [],
   "source": []
  },
  {
   "cell_type": "code",
   "execution_count": null,
   "metadata": {},
   "outputs": [],
   "source": []
  },
  {
   "cell_type": "code",
   "execution_count": null,
   "metadata": {},
   "outputs": [],
   "source": []
  },
  {
   "cell_type": "markdown",
   "metadata": {
    "id": "hwpOTVyJhYTt"
   },
   "source": [
    "### Example with scenario 0"
   ]
  },
  {
   "cell_type": "code",
   "execution_count": null,
   "metadata": {
    "id": "svNY0hy6hYTt"
   },
   "outputs": [],
   "source": [
    "prob_defaults_phys = []\n",
    "time = df.index.tolist()\n",
    "for (i,col) in enumerate(df.columns) : \n",
    "    if i < 3:\n",
    "        prob_defaults_phys.append(compute_pd(df.iloc[:,i].values,V,D,scenario =0,physical=True,multiple=6,T=1,PD0=0.02,sigma_v=0.5,r=0))"
   ]
  },
  {
   "cell_type": "code",
   "execution_count": null,
   "metadata": {
    "id": "FIPXrTz0hYTu"
   },
   "outputs": [],
   "source": [
    "## quelques plots\n",
    "plt.figure(figsize=(20,5))\n",
    "plt.subplot(121)\n",
    "for i,pd_ar in enumerate(prob_defaults_phys) :\n",
    "    plt.plot(time,pd_ar,label=df.columns[i])\n",
    "plt.legend()\n",
    "plt.xlabel('Year')\n",
    "plt.ylabel('PD')\n",
    "plt.title(\"PD en fonction du couple carbon & décarbonation - Risque physique\")\n",
    "plt.subplot(122)\n",
    "for col in df.columns:\n",
    "    plt.plot(time,df[col],label = col)\n",
    "plt.title(\"Coût fonction du couple carbon & décarbonation\")\n",
    "plt.ylabel('')\n",
    "plt.legend()\n",
    "plt.show()"
   ]
  }
 ],
 "metadata": {
  "colab": {
   "collapsed_sections": [
    "tueHRe26hYTp",
    "tBKTtB6thYTp"
   ],
   "name": "1.0-er-project-credit-risk.ipynb",
   "provenance": [],
   "toc_visible": true
  },
  "kernelspec": {
   "display_name": "Python 3",
   "language": "python",
   "name": "python3"
  },
  "language_info": {
   "codemirror_mode": {
    "name": "ipython",
    "version": 3
   },
   "file_extension": ".py",
   "mimetype": "text/x-python",
   "name": "python",
   "nbconvert_exporter": "python",
   "pygments_lexer": "ipython3",
   "version": "3.7.6"
  }
 },
 "nbformat": 4,
 "nbformat_minor": 1
}
