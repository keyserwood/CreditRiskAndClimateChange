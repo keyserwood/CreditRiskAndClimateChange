{
 "cells": [
  {
   "cell_type": "markdown",
   "metadata": {},
   "source": [
    "# Transition risk and climate risk \n",
    "\n",
    "> This project aims at jointly modeling physical and\n",
    "transition risk within a Merton-like credit risk model, building up on [Bouchet and Le Guenedal, 2020].\n",
    "\n",
    "<br>\n",
    "\n",
    "**Target** : Introduce physical risk in the model as a Poisson component variable, whose\n",
    "jumps are proportional to the total asset value (any alternative may be proposed). You\n",
    "may consider a simpler model where physical risk occurs only once (with a exponential\n",
    "law time distribution).\n",
    "\n",
    "* Assess the additional impact of physical risk on default probabilities"
   ]
  },
  {
   "cell_type": "markdown",
   "metadata": {},
   "source": [
    "## Calcul de zeta \n",
    "\n",
    "Calculer le zeta : Quel est le coût de la taxe carbone pour ces deux entrerprises \n",
    "zeta augmente au cours du temps (GIEC & NFES) // Augmentation carbon tax *4\n",
    "\n",
    "Boucher le guenedal  = Plusieurs scénarios \n",
    "\n",
    "## Modéliser une catastrophe natuelle \n",
    "\n",
    "Impact d'une catastrophe naturel // Pétrolier - Enérgeticien\n",
    "\n",
    "Concentration du CO2 dans l'atmosphère \n",
    "\n",
    "## Implémentation technique \n",
    "\n",
    "Modèle poisson ; ou alors saut loi exponentielle sur l'année \n",
    "\n",
    "Comment évolue la PD au cours du temps ?\n",
    "Avec la taxe carbone qui augmente \n",
    "Avec le risque climatique \n",
    "\n",
    "> Analyse de sensibilité : Qu'est-ce qui impact le plus \n",
    "Recommandations // politique"
   ]
  },
  {
   "cell_type": "markdown",
   "metadata": {},
   "source": [
    "## Merton Model\n",
    "\n",
    "Il est nécessaire d'initialiser notre modèle avec la valeur de la firme en année 0 : \n",
    "\n",
    "*Pour cela on récupère* :\n",
    "\n",
    "* PD : Probabilité de défault -> Permet de déterminer N1 et N2 \n",
    "* $\\sigma_v$ : Déterminé grâce au cours de l'action \n",
    "* V,E,D : récupérés grâce à l'étude des comptes"
   ]
  },
  {
   "cell_type": "code",
   "execution_count": 280,
   "metadata": {},
   "outputs": [],
   "source": [
    "import numpy as np \n",
    "import pandas as pd\n",
    "from scipy.stats import norm\n",
    "import matplotlib.pyplot as plt"
   ]
  },
  {
   "cell_type": "markdown",
   "metadata": {},
   "source": [
    "## Merton's Inputs"
   ]
  },
  {
   "cell_type": "code",
   "execution_count": 5,
   "metadata": {},
   "outputs": [],
   "source": [
    "V = 10000 # Asset value \n",
    "E = 5000 # Equity value \n",
    "D = V-E #Debt value\n",
    "T = 15 # Maturity - Horizon 2020 - 2035"
   ]
  },
  {
   "cell_type": "markdown",
   "metadata": {},
   "source": [
    "## Déterminer $\\sigma_v$\n",
    "\n",
    "> On peut déterminer $\\sigma_v$ grâce à une étude de la volatilité de l'action :\n",
    "\n",
    "```python\n",
    "# Slice results for past year (252 trading days)\n",
    "v_a_per = results[t-252:t,i]\n",
    "\n",
    "# Calculate log returns\n",
    "v_a_ret = np.log(v_a_per/np.roll(v_a_per,1))\n",
    "v_a_ret[0] = np.nan\n",
    "\n",
    "# Calculate new asset volatility\n",
    "sigma_a = np.nanstd(v_a_ret)\n",
    "```\n",
    "\n",
    "\n",
    "\n",
    "### Pour faciliter on fixe $\\sigma_v$"
   ]
  },
  {
   "cell_type": "code",
   "execution_count": 6,
   "metadata": {},
   "outputs": [],
   "source": [
    "sigma_v = 0.2 # 20 %"
   ]
  },
  {
   "cell_type": "markdown",
   "metadata": {},
   "source": [
    "## Passer de PD à d1 et d2\n",
    "\n",
    "On détermine tout d'abord $d_1$ :\n",
    "\n",
    "En année 0 : \n",
    "\n",
    "$d_1 = \\frac{ ln(\\frac{V}{D})+ (r +\\frac{1}{2}\\sigma_v^2)\\times T}{\\sigma_v\\sqrt{T}}$\n",
    "\n",
    "$ DD = d_1 $\n",
    "\n",
    "$PD = \\Phi(-DD)$"
   ]
  },
  {
   "cell_type": "markdown",
   "metadata": {},
   "source": [
    "Avec $\\Phi$ = N : Cumulated normal distribution"
   ]
  },
  {
   "cell_type": "code",
   "execution_count": 7,
   "metadata": {},
   "outputs": [],
   "source": [
    "PD = 0.2 # 2% of PD"
   ]
  },
  {
   "cell_type": "markdown",
   "metadata": {},
   "source": [
    "## Reverse cumulative normal distribution"
   ]
  },
  {
   "cell_type": "code",
   "execution_count": 8,
   "metadata": {},
   "outputs": [],
   "source": [
    "inv_PD = norm.cdf(PD) # Inverse of cumulative normal distribution -- cumulative : norm.ppdf"
   ]
  },
  {
   "cell_type": "code",
   "execution_count": 9,
   "metadata": {},
   "outputs": [
    {
     "data": {
      "text/plain": [
       "0.579259709439103"
      ]
     },
     "execution_count": 9,
     "metadata": {},
     "output_type": "execute_result"
    }
   ],
   "source": [
    "inv_PD"
   ]
  },
  {
   "cell_type": "markdown",
   "metadata": {},
   "source": [
    "## Compute d1 - using PD and $\\sigma_v$"
   ]
  },
  {
   "cell_type": "markdown",
   "metadata": {},
   "source": [
    "$PD = \\Phi(-DD) \\rightarrow d_1 = -\\Phi^{-1}(PD)$"
   ]
  },
  {
   "cell_type": "code",
   "execution_count": 10,
   "metadata": {},
   "outputs": [],
   "source": [
    "d1 = -inv_PD"
   ]
  },
  {
   "cell_type": "code",
   "execution_count": 11,
   "metadata": {},
   "outputs": [],
   "source": [
    "d2 = d1-sigma_v*np.sqrt(T)"
   ]
  },
  {
   "cell_type": "code",
   "execution_count": 12,
   "metadata": {},
   "outputs": [
    {
     "name": "stdout",
     "output_type": "stream",
     "text": [
      "d1 = -0.579\n",
      "d2 = -1.354\n"
     ]
    }
   ],
   "source": [
    "print('d1 =',round(d1,3))\n",
    "print('d2 =',round(d2,3))"
   ]
  },
  {
   "cell_type": "markdown",
   "metadata": {},
   "source": [
    "# Introduce carbon tax\n",
    "\n",
    "3 évolutions de prix possibles - sur l'horizon 2030-2035 (si plus changer maturité)"
   ]
  },
  {
   "cell_type": "code",
   "execution_count": 330,
   "metadata": {},
   "outputs": [],
   "source": [
    "scenarios = pd.read_excel('scenarios_edited.xlsx')\n",
    "scenarios = scenarios.set_index('Year')"
   ]
  },
  {
   "cell_type": "code",
   "execution_count": 331,
   "metadata": {
    "scrolled": true
   },
   "outputs": [
    {
     "data": {
      "text/html": [
       "<div>\n",
       "<style scoped>\n",
       "    .dataframe tbody tr th:only-of-type {\n",
       "        vertical-align: middle;\n",
       "    }\n",
       "\n",
       "    .dataframe tbody tr th {\n",
       "        vertical-align: top;\n",
       "    }\n",
       "\n",
       "    .dataframe thead th {\n",
       "        text-align: right;\n",
       "    }\n",
       "</style>\n",
       "<table border=\"1\" class=\"dataframe\">\n",
       "  <thead>\n",
       "    <tr style=\"text-align: right;\">\n",
       "      <th></th>\n",
       "      <th>SSP2-Baseline (3.8°C)-Cout Carbone (US$2010/tCO2)</th>\n",
       "      <th>SSP2-Baseline (3.8°C)-Temps de retour températures extrêmes (années)</th>\n",
       "      <th>SSP2-Baseline (3.8°C)-Augmentation intensité températures extrêmes</th>\n",
       "      <th>SSP2-34 (2.2°C)-Cout Carbone (US$2010/tCO2)</th>\n",
       "      <th>SSP2-34 (2.2°C)-Temps de retour températures extrêmes (années)</th>\n",
       "      <th>SSP2-34 (2.2°C)-Augmentation intensité températures extrêmes</th>\n",
       "      <th>SSP2-26 (1.8°C)-Cout Carbone (US$2010/tCO2)</th>\n",
       "      <th>SSP2-26 (1.8°C)-Temps de retour températures extrêmes (années)</th>\n",
       "      <th>SSP2-26 (1.8°C)-Augmentation intensité températures extrêmes</th>\n",
       "    </tr>\n",
       "    <tr>\n",
       "      <th>Year</th>\n",
       "      <th></th>\n",
       "      <th></th>\n",
       "      <th></th>\n",
       "      <th></th>\n",
       "      <th></th>\n",
       "      <th></th>\n",
       "      <th></th>\n",
       "      <th></th>\n",
       "      <th></th>\n",
       "    </tr>\n",
       "  </thead>\n",
       "  <tbody>\n",
       "    <tr>\n",
       "      <th>2021</th>\n",
       "      <td>0</td>\n",
       "      <td>20</td>\n",
       "      <td>0.00</td>\n",
       "      <td>7</td>\n",
       "      <td>20</td>\n",
       "      <td>0.00</td>\n",
       "      <td>7</td>\n",
       "      <td>20</td>\n",
       "      <td>0</td>\n",
       "    </tr>\n",
       "    <tr>\n",
       "      <th>2030</th>\n",
       "      <td>0</td>\n",
       "      <td>15</td>\n",
       "      <td>0.02</td>\n",
       "      <td>85</td>\n",
       "      <td>15</td>\n",
       "      <td>0.01</td>\n",
       "      <td>390</td>\n",
       "      <td>17</td>\n",
       "      <td>0</td>\n",
       "    </tr>\n",
       "    <tr>\n",
       "      <th>2040</th>\n",
       "      <td>0</td>\n",
       "      <td>10</td>\n",
       "      <td>0.04</td>\n",
       "      <td>135</td>\n",
       "      <td>10</td>\n",
       "      <td>0.02</td>\n",
       "      <td>640</td>\n",
       "      <td>14</td>\n",
       "      <td>0</td>\n",
       "    </tr>\n",
       "    <tr>\n",
       "      <th>2050</th>\n",
       "      <td>0</td>\n",
       "      <td>5</td>\n",
       "      <td>0.06</td>\n",
       "      <td>240</td>\n",
       "      <td>5</td>\n",
       "      <td>0.03</td>\n",
       "      <td>1124</td>\n",
       "      <td>11</td>\n",
       "      <td>0</td>\n",
       "    </tr>\n",
       "    <tr>\n",
       "      <th>2060</th>\n",
       "      <td>0</td>\n",
       "      <td>2</td>\n",
       "      <td>0.08</td>\n",
       "      <td>390</td>\n",
       "      <td>2</td>\n",
       "      <td>0.04</td>\n",
       "      <td>1850</td>\n",
       "      <td>8</td>\n",
       "      <td>0</td>\n",
       "    </tr>\n",
       "  </tbody>\n",
       "</table>\n",
       "</div>"
      ],
      "text/plain": [
       "      SSP2-Baseline (3.8°C)-Cout Carbone (US$2010/tCO2)  \\\n",
       "Year                                                      \n",
       "2021                                                  0   \n",
       "2030                                                  0   \n",
       "2040                                                  0   \n",
       "2050                                                  0   \n",
       "2060                                                  0   \n",
       "\n",
       "      SSP2-Baseline (3.8°C)-Temps de retour températures extrêmes (années)  \\\n",
       "Year                                                                         \n",
       "2021                                                 20                      \n",
       "2030                                                 15                      \n",
       "2040                                                 10                      \n",
       "2050                                                  5                      \n",
       "2060                                                  2                      \n",
       "\n",
       "      SSP2-Baseline (3.8°C)-Augmentation intensité températures extrêmes  \\\n",
       "Year                                                                       \n",
       "2021                                               0.00                    \n",
       "2030                                               0.02                    \n",
       "2040                                               0.04                    \n",
       "2050                                               0.06                    \n",
       "2060                                               0.08                    \n",
       "\n",
       "      SSP2-34 (2.2°C)-Cout Carbone (US$2010/tCO2)  \\\n",
       "Year                                                \n",
       "2021                                            7   \n",
       "2030                                           85   \n",
       "2040                                          135   \n",
       "2050                                          240   \n",
       "2060                                          390   \n",
       "\n",
       "      SSP2-34 (2.2°C)-Temps de retour températures extrêmes (années)  \\\n",
       "Year                                                                   \n",
       "2021                                                 20                \n",
       "2030                                                 15                \n",
       "2040                                                 10                \n",
       "2050                                                  5                \n",
       "2060                                                  2                \n",
       "\n",
       "      SSP2-34 (2.2°C)-Augmentation intensité températures extrêmes  \\\n",
       "Year                                                                 \n",
       "2021                                               0.00              \n",
       "2030                                               0.01              \n",
       "2040                                               0.02              \n",
       "2050                                               0.03              \n",
       "2060                                               0.04              \n",
       "\n",
       "      SSP2-26 (1.8°C)-Cout Carbone (US$2010/tCO2)  \\\n",
       "Year                                                \n",
       "2021                                            7   \n",
       "2030                                          390   \n",
       "2040                                          640   \n",
       "2050                                         1124   \n",
       "2060                                         1850   \n",
       "\n",
       "      SSP2-26 (1.8°C)-Temps de retour températures extrêmes (années)  \\\n",
       "Year                                                                   \n",
       "2021                                                 20                \n",
       "2030                                                 17                \n",
       "2040                                                 14                \n",
       "2050                                                 11                \n",
       "2060                                                  8                \n",
       "\n",
       "      SSP2-26 (1.8°C)-Augmentation intensité températures extrêmes  \n",
       "Year                                                                \n",
       "2021                                                  0             \n",
       "2030                                                  0             \n",
       "2040                                                  0             \n",
       "2050                                                  0             \n",
       "2060                                                  0             "
      ]
     },
     "execution_count": 331,
     "metadata": {},
     "output_type": "execute_result"
    }
   ],
   "source": [
    "scenarios.head()"
   ]
  },
  {
   "cell_type": "markdown",
   "metadata": {},
   "source": [
    "### Extract carbon prices "
   ]
  },
  {
   "cell_type": "code",
   "execution_count": 356,
   "metadata": {},
   "outputs": [],
   "source": [
    "carbon_cols = scenarios.columns[scenarios.columns.str.contains('Carbone')]\n",
    "carbon_prices = scenarios[carbon_cols]"
   ]
  },
  {
   "cell_type": "code",
   "execution_count": 430,
   "metadata": {},
   "outputs": [
    {
     "data": {
      "text/html": [
       "<div>\n",
       "<style scoped>\n",
       "    .dataframe tbody tr th:only-of-type {\n",
       "        vertical-align: middle;\n",
       "    }\n",
       "\n",
       "    .dataframe tbody tr th {\n",
       "        vertical-align: top;\n",
       "    }\n",
       "\n",
       "    .dataframe thead th {\n",
       "        text-align: right;\n",
       "    }\n",
       "</style>\n",
       "<table border=\"1\" class=\"dataframe\">\n",
       "  <thead>\n",
       "    <tr style=\"text-align: right;\">\n",
       "      <th></th>\n",
       "      <th>SSP2-Baseline (3.8°C)-Cout Carbone (US$2010/tCO2)</th>\n",
       "      <th>SSP2-34 (2.2°C)-Cout Carbone (US$2010/tCO2)</th>\n",
       "      <th>SSP2-26 (1.8°C)-Cout Carbone (US$2010/tCO2)</th>\n",
       "    </tr>\n",
       "    <tr>\n",
       "      <th>Year</th>\n",
       "      <th></th>\n",
       "      <th></th>\n",
       "      <th></th>\n",
       "    </tr>\n",
       "  </thead>\n",
       "  <tbody>\n",
       "    <tr>\n",
       "      <th>2021</th>\n",
       "      <td>0</td>\n",
       "      <td>7</td>\n",
       "      <td>7</td>\n",
       "    </tr>\n",
       "    <tr>\n",
       "      <th>2030</th>\n",
       "      <td>0</td>\n",
       "      <td>85</td>\n",
       "      <td>390</td>\n",
       "    </tr>\n",
       "  </tbody>\n",
       "</table>\n",
       "</div>"
      ],
      "text/plain": [
       "      SSP2-Baseline (3.8°C)-Cout Carbone (US$2010/tCO2)  \\\n",
       "Year                                                      \n",
       "2021                                                  0   \n",
       "2030                                                  0   \n",
       "\n",
       "      SSP2-34 (2.2°C)-Cout Carbone (US$2010/tCO2)  \\\n",
       "Year                                                \n",
       "2021                                            7   \n",
       "2030                                           85   \n",
       "\n",
       "      SSP2-26 (1.8°C)-Cout Carbone (US$2010/tCO2)  \n",
       "Year                                               \n",
       "2021                                            7  \n",
       "2030                                          390  "
      ]
     },
     "execution_count": 430,
     "metadata": {},
     "output_type": "execute_result"
    }
   ],
   "source": [
    "carbon_prices.head(2)"
   ]
  },
  {
   "cell_type": "markdown",
   "metadata": {},
   "source": [
    "### Create array with linspace"
   ]
  },
  {
   "cell_type": "code",
   "execution_count": 431,
   "metadata": {},
   "outputs": [],
   "source": [
    "c_prices = {}\n",
    "for col in carbon_cols :\n",
    "    tmp = [] # temporary list to store carbon prices\n",
    "    for i , (year,price) in enumerate(zip(carbon_prices.index,carbon_prices[col])):\n",
    "        if i < len(carbon_prices.index)-1:\n",
    "            if i==0:\n",
    "                tmp+=np.linspace(price,carbon_prices[col].values[i+1],carbon_prices.index[i+1]-year+1).tolist()\n",
    "            else :\n",
    "                tmp+=np.linspace(price,carbon_prices[col].values[i+1],carbon_prices.index[i+1]-year+1).tolist()[1:]\n",
    "    c_prices[col] = tmp\n",
    "\n",
    "carbon_df = pd.DataFrame(c_prices)\n",
    "carbon_df.index += 2021\n",
    "carbon_df = carbon_df.rename_axis(\"Year\")"
   ]
  },
  {
   "cell_type": "code",
   "execution_count": 438,
   "metadata": {},
   "outputs": [
    {
     "data": {
      "text/plain": [
       "<matplotlib.axes._subplots.AxesSubplot at 0x7f795aa41310>"
      ]
     },
     "execution_count": 438,
     "metadata": {},
     "output_type": "execute_result"
    },
    {
     "data": {
      "image/png": "[encoded data removed]",
      "text/plain": [
       "<Figure size 432x288 with 1 Axes>"
      ]
     },
     "metadata": {
      "needs_background": "light"
     },
     "output_type": "display_data"
    }
   ],
   "source": [
    "carbon_df.plot()"
   ]
  },
  {
   "cell_type": "markdown",
   "metadata": {},
   "source": [
    "# Transition risk  - From carbon tax to asset devaluation\n",
    "\n",
    "### Need to compute carbon footprint each year : \n",
    "\n",
    "* Sum of carbon footprint on each country of activity : i = 0; one company only\n",
    "\n",
    "$CC(k,t) = \\sum_{j\\in M} Scope_1(j,t)\\times CP(j,k,t) $\n",
    "\n",
    "k is scenario chosen ; j a region ; t is time\n",
    "\n",
    "* To simplify our study - Only consider one country ? \n",
    "\n",
    "### Shock to EBITDA \n",
    "\n",
    "* Firm is equal to a given multiplier times EBITDA \n",
    "\n",
    "$\\zeta(k,t) = \\frac{CC(k,t)}{EBITDA(k=0,t=0)}$\n",
    "\n",
    "### Link with initial firm value \n",
    "\n",
    "$V(k,t) = (1-\\zeta(k,t))\\times V(k=0,t=0) $\n",
    "\n",
    "## Ebitda & Firm value\n",
    "\n",
    "<img src=https://chinookadvisors.com/wp-content/uploads/2020/07/figure.png style=\"width:110px;\"/>"
   ]
  },
  {
   "cell_type": "markdown",
   "metadata": {},
   "source": [
    "### Compute zeta "
   ]
  },
  {
   "cell_type": "code",
   "execution_count": 21,
   "metadata": {},
   "outputs": [],
   "source": [
    "multiple = 7"
   ]
  },
  {
   "cell_type": "markdown",
   "metadata": {},
   "source": [
    "## What amount of carbon dioxyde ? British Petroleum\n",
    "\n",
    "<img src = https://safety4sea.com/wp-content/uploads/2019/02/bp-co2-in-2040-1024x517.png style=\"width:400px;\"/>"
   ]
  },
  {
   "cell_type": "code",
   "execution_count": 276,
   "metadata": {},
   "outputs": [],
   "source": [
    "### Create scenario\n",
    "def create_scenarios(carbon_dict):\n",
    "    ## Create a scenario based on dict : {initial_value1:[growth],initial_value2:[growth]}\n",
    "    carbon_scenarios = [] # Stores all carbon scenario \n",
    "    for (i,base_value) in enumerate(carbon_dict):\n",
    "        for (j,growth_rate) in enumerate(carbon_dict[base_value]):\n",
    "            scenario = [base_value*(1+growth_rate)**t for t in range(T+1)]\n",
    "            carbon_scenarios.append(scenario)\n",
    "    return(carbon_scenarios)\n",
    "\n",
    "### Plot scenarios\n",
    "def plot_scenarios(carbon_scenarios,prefix='Carbon tax',ylabel='Carbon tax [USD]'):\n",
    "    time  = [i+2020 for i in range(T+1)]\n",
    "    for (i,scenario) in enumerate(carbon_scenarios):\n",
    "        plt.plot(time,scenario,label=f\"{prefix} {i+1}\")\n",
    "    plt.xlabel('Year')\n",
    "    plt.ylabel(ylabel)\n",
    "    plt.legend()\n",
    "    plt.show()"
   ]
  },
  {
   "cell_type": "code",
   "execution_count": 277,
   "metadata": {},
   "outputs": [],
   "source": [
    "ebitda_0 = V/multiple\n",
    "scope = 35 # 35 Gigatons of carbon"
   ]
  },
  {
   "cell_type": "code",
   "execution_count": 278,
   "metadata": {},
   "outputs": [],
   "source": [
    "bp_dict = {35:[0.01,-0.03,-0.079]}"
   ]
  },
  {
   "cell_type": "code",
   "execution_count": 279,
   "metadata": {},
   "outputs": [
    {
     "data": {
      "image/png": "[encoded data removed]",
      "text/plain": [
       "<Figure size 432x288 with 1 Axes>"
      ]
     },
     "metadata": {
      "needs_background": "light"
     },
     "output_type": "display_data"
    }
   ],
   "source": [
    "bp_carbon_scenarios = create_scenarios(bp_dict)\n",
    "plot_scenarios(bp_carbon_scenarios,prefix='BP carbon',ylabel='GTCo2eq')"
   ]
  },
  {
   "cell_type": "markdown",
   "metadata": {},
   "source": [
    "## Compute each carbon cost for each scenario"
   ]
  },
  {
   "cell_type": "code",
   "execution_count": 266,
   "metadata": {},
   "outputs": [],
   "source": [
    "def carbon_cost(carbon_scenarios,firm_scenario):\n",
    "    \"\"\"Carbon scenarios : liste des prix du carbone sur la durée de temps considérée\n",
    "       Firm scenario : Trajectoire de décarbonation envisagé par l'entreprise\n",
    "       \n",
    "    Output : array avec le coût de chaque possibilité\"\"\"\n",
    "    results = {}\n",
    "    for (i,carbon_tax) in enumerate(carbon_scenarios):\n",
    "        ## Loop on each carbon tax & compute a price \n",
    "        for (j,scenario) in enumerate(firm_scenarios):\n",
    "            cost = []\n",
    "            for (carbon_price,scope) in zip(carbon_tax,scenario):\n",
    "                cost.append(carbon_price*scope)\n",
    "            results[f'scenario_{i}_{j}'] = cost # scenario i (which carbon tax) ; j (which alignement scenario)"
   ]
  },
  {
   "cell_type": "code",
   "execution_count": null,
   "metadata": {},
   "outputs": [],
   "source": [
    "carbon"
   ]
  },
  {
   "cell_type": "code",
   "execution_count": 26,
   "metadata": {},
   "outputs": [],
   "source": [
    "import pandas as pd"
   ]
  },
  {
   "cell_type": "code",
   "execution_count": 27,
   "metadata": {},
   "outputs": [],
   "source": [
    "df = pd.DataFrame(results)"
   ]
  },
  {
   "cell_type": "code",
   "execution_count": 29,
   "metadata": {
    "scrolled": false
   },
   "outputs": [
    {
     "data": {
      "image/png": "[encoded data removed]",
      "text/plain": [
       "<Figure size 432x288 with 1 Axes>"
      ]
     },
     "metadata": {
      "needs_background": "light"
     },
     "output_type": "display_data"
    }
   ],
   "source": [
    "time  = [i+2020 for i in range(T+1)]\n",
    "for col in df.columns:\n",
    "    plt.plot(time,df[col],label=col)\n",
    "plt.ylabel('Carbon cost [USD]')\n",
    "plt.legend()\n",
    "plt.show() # Carbon price"
   ]
  },
  {
   "cell_type": "markdown",
   "metadata": {},
   "source": [
    "### Compute zeta & PD "
   ]
  },
  {
   "cell_type": "code",
   "execution_count": 259,
   "metadata": {},
   "outputs": [],
   "source": [
    "import math\n",
    "def compute_pd(carbon_cost,V,D,multiple=7,T=15,PD0=0.02,sigma_v=0.2,r=0.02):\n",
    "    # list of zeta, compute evolution of PD\n",
    "    PD = [PD0]\n",
    "    for i in range(1,len(carbon_cost)):\n",
    "        zeta = carbon_cost[i]/(V/multiple)\n",
    "        # Compute pd ième \n",
    "        DD = ( np.log( (1-zeta)*V/D )+ (r+0.5*sigma_v**2)*T )/(sigma_v*np.sqrt(T))\n",
    "        \"\"\"Si DD > 0 alors PD = 0 ; sinon calcul de PD -> si retourne un np.nan \"\"\"\n",
    "        pdi = norm.ppf(-DD)\n",
    "        # Régler les incohérences : \n",
    "        if pdi < 0 :\n",
    "            PD.append(PD[i-1])\n",
    "        elif pdi > 1 :\n",
    "            PD.append(1)\n",
    "        elif PD[i-1] == 1 and math.isnan(pdi):\n",
    "            PD.append(1)\n",
    "        else :\n",
    "            PD.append(pdi)\n",
    "    return(PD)"
   ]
  },
  {
   "cell_type": "markdown",
   "metadata": {},
   "source": [
    "### Attention à choisir des valeurs pertinentes sinon pas de résultats"
   ]
  },
  {
   "cell_type": "code",
   "execution_count": 264,
   "metadata": {},
   "outputs": [],
   "source": [
    "array_PD = compute_pd(df.iloc[:,0],10000,7000)"
   ]
  },
  {
   "cell_type": "code",
   "execution_count": 265,
   "metadata": {},
   "outputs": [
    {
     "data": {
      "text/plain": [
       "[<matplotlib.lines.Line2D at 0x7f795c70f490>]"
      ]
     },
     "execution_count": 265,
     "metadata": {},
     "output_type": "execute_result"
    },
    {
     "data": {
      "image/png": "[encoded data removed]",
      "text/plain": [
       "<Figure size 432x288 with 1 Axes>"
      ]
     },
     "metadata": {
      "needs_background": "light"
     },
     "output_type": "display_data"
    }
   ],
   "source": [
    "plt.plot(time,array_PD)"
   ]
  },
  {
   "cell_type": "markdown",
   "metadata": {},
   "source": [
    "### Lecture des scénarios"
   ]
  },
  {
   "cell_type": "code",
   "execution_count": null,
   "metadata": {},
   "outputs": [],
   "source": []
  },
  {
   "cell_type": "code",
   "execution_count": null,
   "metadata": {},
   "outputs": [],
   "source": []
  },
  {
   "cell_type": "code",
   "execution_count": null,
   "metadata": {},
   "outputs": [],
   "source": []
  },
  {
   "cell_type": "markdown",
   "metadata": {},
   "source": [
    "## Ajoute du risque climatique : Arrive une fois et dévalue l'entreprise"
   ]
  }
 ],
 "metadata": {
  "kernelspec": {
   "display_name": "Python 3",
   "language": "python",
   "name": "python3"
  },
  "language_info": {
   "codemirror_mode": {
    "name": "ipython",
    "version": 3
   },
   "file_extension": ".py",
   "mimetype": "text/x-python",
   "name": "python",
   "nbconvert_exporter": "python",
   "pygments_lexer": "ipython3",
   "version": "3.7.6"
  }
 },
 "nbformat": 4,
 "nbformat_minor": 4
}
