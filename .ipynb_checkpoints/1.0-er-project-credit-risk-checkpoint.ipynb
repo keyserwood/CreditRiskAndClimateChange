{
 "cells": [
  {
   "cell_type": "markdown",
   "metadata": {},
   "source": [
    "# Transition risk and climate risk \n",
    "\n",
    "> This project aims at jointly modeling physical and\n",
    "transition risk within a Merton-like credit risk model, building up on [Bouchet and Le Guenedal, 2020].\n",
    "\n",
    "<br>\n",
    "\n",
    "**Target** : Introduce physical risk in the model as a Poisson component variable, whose\n",
    "jumps are proportional to the total asset value (any alternative may be proposed). You\n",
    "may consider a simpler model where physical risk occurs only once (with a exponential\n",
    "law time distribution).\n",
    "\n",
    "* Assess the additional impact of physical risk on default probabilities"
   ]
  },
  {
   "cell_type": "markdown",
   "metadata": {},
   "source": [
    "# TODO - Meet with B. ROGER\n",
    "\n",
    "## Fixer les paramètres du modèle de Merton avant pris en compte du risk climat\n",
    "\n",
    "Composition bilan d'une entreprise \n",
    "\n",
    "Dette LT & Dette CT \n",
    "\n",
    "D Merton = Dette CT + 1/2 Dette LT\n",
    "\n",
    "E & D = actifs totaux de la boite\n",
    "\n",
    "-> Paramètres initiaux \n",
    "\n",
    "## Chercher la PD de l'entreprise\n",
    "\n",
    "PD de l'entreprise grâce au ratings : Intuiter D1 ; D2 ; Sigma \n",
    "\n",
    "## Calcul de zeta \n",
    "\n",
    "Calculer le zeta : Quel est le coût de la taxe carbone pour ces deux entrerprises \n",
    "zeta augmente au cours du temps (GIEC & NFES) // Augmentation carbon tax *4\n",
    "\n",
    "Boucher le guenedal  = Plusieurs scénarios \n",
    "\n",
    "## Modéliser une catastrophe natuelle \n",
    "\n",
    "Impact d'une catastrophe naturel // Pétrolier - Enérgeticien\n",
    "\n",
    "Concentration du CO2 dans l'atmosphère \n",
    "\n",
    "## Implémentation technique \n",
    "\n",
    "Modèle poisson ; ou alors saut loi exponentielle sur l'année \n",
    "\n",
    "Comment évolue la PD au cours du temps ?\n",
    "Avec la taxe carbone qui augmente \n",
    "Avec le risque climatique \n",
    "\n",
    "> Analyse de sensibilité : Qu'est-ce qui impact le plus \n",
    "Recommandations // politique"
   ]
  },
  {
   "cell_type": "markdown",
   "metadata": {},
   "source": [
    "## Merton Model\n",
    "\n",
    "Il est nécessaire d'initialiser notre modèle avec la valeur de la firme en année 0 : \n",
    "\n",
    "*Pour cela on récupère* :\n",
    "\n",
    "* PD : Probabilité de défault -> Permet de déterminer N1 et N2 \n",
    "* $\\sigma_v$ : Déterminé grâce au cours de l'action \n",
    "* V,E,D : récupérés grâce à l'étude des comptes"
   ]
  },
  {
   "cell_type": "code",
   "execution_count": 11,
   "metadata": {},
   "outputs": [],
   "source": [
    "import numpy as np \n",
    "from scipy.stats import norm"
   ]
  },
  {
   "cell_type": "markdown",
   "metadata": {},
   "source": [
    "## Merton's Inputs"
   ]
  },
  {
   "cell_type": "code",
   "execution_count": 16,
   "metadata": {},
   "outputs": [],
   "source": [
    "V = 100 # Asset value \n",
    "E = 50 # Equity value \n",
    "D = V-E #Debt value\n",
    "T = 15 # Maturity - Horizon 2020 - 2035"
   ]
  },
  {
   "cell_type": "markdown",
   "metadata": {},
   "source": [
    "## Déterminer $\\sigma_v$\n",
    "\n",
    "> On détermine $\\sigma_v$\n",
    "\n",
    "Pour faciliter on fixe $\\sigma_v$"
   ]
  },
  {
   "cell_type": "code",
   "execution_count": 3,
   "metadata": {},
   "outputs": [],
   "source": [
    "sigma_v = 0.2"
   ]
  },
  {
   "cell_type": "markdown",
   "metadata": {},
   "source": [
    "## Passer de PD à d1 et d2\n",
    "\n",
    "On détermine tout d'abord $d_1$ :\n",
    "\n",
    "En année 0 : \n",
    "\n",
    "$$d_1 = \\frac{ ln(\\frac{V}{D})+ (r +\\frac{1}{2}\\sigma_v^2)\\times T}{\\sigma_v\\sqrt{T}}$$\n",
    "\n",
    "$$ DD = d_1 $$\n",
    "\n",
    "$$PD = \\Phi(-DD)$$"
   ]
  },
  {
   "cell_type": "markdown",
   "metadata": {},
   "source": [
    "Avec $\\Phi$ = N : Cumulated normal distribution"
   ]
  },
  {
   "cell_type": "code",
   "execution_count": 12,
   "metadata": {},
   "outputs": [],
   "source": [
    "PD = 0.02 # 2% of PD"
   ]
  },
  {
   "cell_type": "markdown",
   "metadata": {},
   "source": [
    "## Reverse cumulative normal distribution"
   ]
  },
  {
   "cell_type": "code",
   "execution_count": 10,
   "metadata": {},
   "outputs": [],
   "source": [
    "inv_PD = norm.cdf(PD) # Inverse of cumulative normal distribution"
   ]
  },
  {
   "cell_type": "code",
   "execution_count": 7,
   "metadata": {},
   "outputs": [
    {
     "data": {
      "text/plain": [
       "0.5079783137169019"
      ]
     },
     "execution_count": 7,
     "metadata": {},
     "output_type": "execute_result"
    }
   ],
   "source": [
    "inv_PD"
   ]
  },
  {
   "cell_type": "markdown",
   "metadata": {},
   "source": [
    "## Compute d1 - using PD and $\\sigma_v$"
   ]
  },
  {
   "cell_type": "markdown",
   "metadata": {},
   "source": [
    "$$PD = \\Phi(-DD) \\rightarrow d_1 = -\\Phi^{-1}(PD)$$"
   ]
  },
  {
   "cell_type": "code",
   "execution_count": 8,
   "metadata": {},
   "outputs": [],
   "source": [
    "d1 = -inv_PD"
   ]
  },
  {
   "cell_type": "code",
   "execution_count": 13,
   "metadata": {},
   "outputs": [],
   "source": [
    "d2 = d1-sigma_v*np.sqrt(T)"
   ]
  },
  {
   "cell_type": "code",
   "execution_count": 15,
   "metadata": {},
   "outputs": [
    {
     "name": "stdout",
     "output_type": "stream",
     "text": [
      "d1 = -0.508\n",
      "d2 = -1.603\n"
     ]
    }
   ],
   "source": [
    "print('d1 =',round(d1,3))\n",
    "print('d2 =',round(d2,3))"
   ]
  },
  {
   "cell_type": "markdown",
   "metadata": {},
   "source": [
    "# Introduce carbon tax\n",
    "\n",
    "3 évolutions de prix possibles - sur l'horizon 2030-2035 (si plus changer maturité)"
   ]
  },
  {
   "cell_type": "code",
   "execution_count": 19,
   "metadata": {},
   "outputs": [],
   "source": [
    "time  = [i+2020 for i in range(T+1)]"
   ]
  },
  {
   "cell_type": "markdown",
   "metadata": {},
   "source": [
    "<img src= 'https://i.guim.co.uk/img/media/51937f9adf4c672d1a3e8613e53a5ad4d6fa9b77/0_0_1420_1029/master/1420.png?width=620&quality=85&auto=format&fit=max&s=b63a12d3102dcac5c8939edf758bf76f'>"
   ]
  },
  {
   "cell_type": "markdown",
   "metadata": {},
   "source": [
    "Sur la base de ce graph du guardian, rédaction de 4 scénarios"
   ]
  },
  {
   "cell_type": "code",
   "execution_count": 41,
   "metadata": {},
   "outputs": [],
   "source": [
    "import matplotlib.pyplot as plt"
   ]
  },
  {
   "cell_type": "markdown",
   "metadata": {},
   "source": [
    "### Implement carbon scenario"
   ]
  },
  {
   "cell_type": "code",
   "execution_count": 53,
   "metadata": {},
   "outputs": [],
   "source": [
    "carbon_price_dict = {25:[0.01,0.05],50:[0.01,0.05]} #Dictionnaire avec le prix de base et le rate; donné à titres indicatifs"
   ]
  },
  {
   "cell_type": "code",
   "execution_count": 73,
   "metadata": {},
   "outputs": [],
   "source": [
    "### Create scenario\n",
    "def create_carbon_scenarios(carbon_dict):\n",
    "    ## Create a scenario based on dict : {initial_value1:[growth],initial_value2:[growth]}\n",
    "    carbon_scenarios = [] # Stores all carbon scenario \n",
    "    for (i,base_value) in enumerate(carbon_dict):\n",
    "        for (j,growth_rate) in enumerate(carbon_dict[base_value]):\n",
    "            scenario = [base_value*(1+growth_rate)**t for t in range(T+1)]\n",
    "            carbon_scenarios.append(scenario)\n",
    "    return(carbon_scenarios)\n",
    "\n",
    "### Plot scenarios\n",
    "def plot_scenarios(carbon_scenarios,prefix='Carbon tax',ylabel='Carbon tax [USD]'):\n",
    "    for (i,scenario) in enumerate(carbon_scenarios):\n",
    "        plt.plot(time,scenario,label=f\"{prefix} {i+1}\")\n",
    "    plt.xlabel('Year')\n",
    "    plt.ylabel(ylabel)\n",
    "    plt.legend()\n",
    "    plt.show()"
   ]
  },
  {
   "cell_type": "code",
   "execution_count": 74,
   "metadata": {},
   "outputs": [
    {
     "data": {
      "image/png": "[encoded data removed]",
      "text/plain": [
       "<Figure size 432x288 with 1 Axes>"
      ]
     },
     "metadata": {
      "needs_background": "light"
     },
     "output_type": "display_data"
    }
   ],
   "source": [
    "carbon_scenarios = create_carbon_scenarios(carbon_price_dict)\n",
    "plot_scenarios(carbon_scenarios)"
   ]
  },
  {
   "cell_type": "markdown",
   "metadata": {},
   "source": [
    "# Transition risk  - From carbon tax to asset devaluation\n",
    "\n",
    "### Need to compute carbon footprint each year : \n",
    "\n",
    "* Sum of carbon footprint on each country of activity : i = 0; one company only\n",
    "\n",
    "$$CC(k,t) = \\sum_{j\\in M} Scope_1(j,t)\\times CP(j,k,t) $$\n",
    "\n",
    "k is scenario chosen ; j a region ; t is time\n",
    "\n",
    "* To simplify our study - Only consider one country ? \n",
    "\n",
    "### Shock to EBITDA \n",
    "\n",
    "* Firm is equal to a given multiplier times EBITDA \n",
    "\n",
    "$$\\zeta(k,t) = \\frac{CC(k,t)}{EBITDA(k=0,t=0)}$$\n",
    "\n",
    "### Link with initial firm value \n",
    "\n",
    "$$V(k,t) = (1-\\zeta(k,t))\\times V(k=0,t=0) $$"
   ]
  },
  {
   "cell_type": "markdown",
   "metadata": {},
   "source": [
    "## Ebitda & Firm value\n",
    "\n",
    "<img src=https://chinookadvisors.com/wp-content/uploads/2020/07/figure.png>"
   ]
  },
  {
   "cell_type": "markdown",
   "metadata": {},
   "source": [
    "### Compute zeta "
   ]
  },
  {
   "cell_type": "code",
   "execution_count": 47,
   "metadata": {},
   "outputs": [],
   "source": [
    "multiple = 7"
   ]
  },
  {
   "cell_type": "markdown",
   "metadata": {},
   "source": [
    "## What amount of carbon dioxyde ? British Petroleum\n",
    "\n",
    "<img src = https://safety4sea.com/wp-content/uploads/2019/02/bp-co2-in-2040-1024x517.png>"
   ]
  },
  {
   "cell_type": "code",
   "execution_count": 52,
   "metadata": {},
   "outputs": [],
   "source": [
    "ebitda_0 = V/multiple\n",
    "scope = 35e9 # 35 Gigatons of carbon"
   ]
  },
  {
   "cell_type": "code",
   "execution_count": 71,
   "metadata": {},
   "outputs": [],
   "source": [
    "bp_dict = {35e9:[0.01,-0.03,-0.079]}"
   ]
  },
  {
   "cell_type": "code",
   "execution_count": 75,
   "metadata": {},
   "outputs": [
    {
     "data": {
      "image/png": "[encoded data removed]",
      "text/plain": [
       "<Figure size 432x288 with 1 Axes>"
      ]
     },
     "metadata": {
      "needs_background": "light"
     },
     "output_type": "display_data"
    }
   ],
   "source": [
    "bp_carbon_scenarios = create_carbon_scenarios(bp_dict)\n",
    "plot_scenarios(bp_carbon_scenarios,prefix='BP carbon',ylabel='GTCo2eq')"
   ]
  },
  {
   "cell_type": "code",
   "execution_count": null,
   "metadata": {},
   "outputs": [],
   "source": []
  },
  {
   "cell_type": "code",
   "execution_count": null,
   "metadata": {},
   "outputs": [],
   "source": []
  },
  {
   "cell_type": "markdown",
   "metadata": {},
   "source": [
    "### Quelques remarques\n",
    "\n",
    "* A quoi ça sert de calculer à l'année 0 les paramètres du model de merton ? \n",
    "* Juste besoin de la probabilité de défaut initiale ; et de V0\n",
    "\n",
    "<br>\n",
    "-> on calcule V0 "
   ]
  },
  {
   "cell_type": "code",
   "execution_count": null,
   "metadata": {},
   "outputs": [],
   "source": []
  }
 ],
 "metadata": {
  "kernelspec": {
   "display_name": "Python 3",
   "language": "python",
   "name": "python3"
  },
  "language_info": {
   "codemirror_mode": {
    "name": "ipython",
    "version": 3
   },
   "file_extension": ".py",
   "mimetype": "text/x-python",
   "name": "python",
   "nbconvert_exporter": "python",
   "pygments_lexer": "ipython3",
   "version": "3.7.6"
  }
 },
 "nbformat": 4,
 "nbformat_minor": 4
}
