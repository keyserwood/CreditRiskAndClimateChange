{
 "cells": [
  {
   "cell_type": "markdown",
   "metadata": {},
   "source": [
    "# Transition risk and climate risk \n",
    "\n",
    "> This project aims at jointly modeling physical and\n",
    "transition risk within a Merton-like credit risk model, building up on [Bouchet and Le Guenedal, 2020].\n",
    "\n",
    "<br>\n",
    "\n",
    "**Target** : Introduce physical risk in the model as a Poisson component variable, whose\n",
    "jumps are proportional to the total asset value (any alternative may be proposed). You\n",
    "may consider a simpler model where physical risk occurs only once (with a exponential\n",
    "law time distribution).\n",
    "\n",
    "* Assess the additional impact of physical risk on default probabilities"
   ]
  },
  {
   "cell_type": "markdown",
   "metadata": {},
   "source": [
    "## Modéliser une catastrophe natuelle \n",
    "\n",
    "Impact d'une catastrophe naturel // Pétrolier - Enérgeticien\n",
    "\n",
    "Concentration du CO2 dans l'atmosphère \n",
    "\n",
    "## Implémentation technique \n",
    "\n",
    "Modèle poisson ; ou alors saut loi exponentielle sur l'année \n",
    "\n",
    "Comment évolue la PD au cours du temps ?\n",
    "Avec la taxe carbone qui augmente \n",
    "Avec le risque climatique \n",
    "\n",
    "> Analyse de sensibilité : Qu'est-ce qui impact le plus \n",
    "Recommandations // politique"
   ]
  },
  {
   "cell_type": "markdown",
   "metadata": {},
   "source": [
    "## Merton Model\n",
    "\n",
    "Il est nécessaire d'initialiser notre modèle avec la valeur de la firme en année 0 : \n",
    "\n",
    "*Pour cela on récupère* :\n",
    "\n",
    "* PD : Probabilité de défault -> Permet de déterminer N1 et N2 \n",
    "* $\\sigma_v$ : Déterminé grâce au cours de l'action \n",
    "* V,E,D : récupérés grâce à l'étude des comptes"
   ]
  },
  {
   "cell_type": "code",
   "execution_count": 280,
   "metadata": {},
   "outputs": [],
   "source": [
    "import numpy as np \n",
    "import pandas as pd\n",
    "from scipy.stats import norm\n",
    "import matplotlib.pyplot as plt"
   ]
  },
  {
   "cell_type": "markdown",
   "metadata": {},
   "source": [
    "## Merton's Inputs"
   ]
  },
  {
   "cell_type": "code",
   "execution_count": 5,
   "metadata": {},
   "outputs": [],
   "source": [
    "V = 10000 # Asset value \n",
    "E = 5000 # Equity value \n",
    "D = V-E #Debt value\n",
    "T = 15 # Maturity - Horizon 2020 - 2035"
   ]
  },
  {
   "cell_type": "markdown",
   "metadata": {},
   "source": [
    "## Déterminer $\\sigma_v$\n",
    "\n",
    "> On peut déterminer $\\sigma_v$ grâce à une étude de la volatilité de l'action :\n",
    "\n",
    "```python\n",
    "# Slice results for past year (252 trading days)\n",
    "v_a_per = results[t-252:t,i]\n",
    "\n",
    "# Calculate log returns\n",
    "v_a_ret = np.log(v_a_per/np.roll(v_a_per,1))\n",
    "v_a_ret[0] = np.nan\n",
    "\n",
    "# Calculate new asset volatility\n",
    "sigma_a = np.nanstd(v_a_ret)\n",
    "```\n",
    "\n",
    "\n",
    "\n",
    "### Pour faciliter on fixe $\\sigma_v$"
   ]
  },
  {
   "cell_type": "code",
   "execution_count": 6,
   "metadata": {},
   "outputs": [],
   "source": [
    "sigma_v = 0.2 # 20 %"
   ]
  },
  {
   "cell_type": "markdown",
   "metadata": {},
   "source": [
    "## Passer de PD à d1 et d2\n",
    "\n",
    "On détermine tout d'abord $d_1$ :\n",
    "\n",
    "En année 0 : \n",
    "\n",
    "$d_1 = \\frac{ ln(\\frac{V}{D})+ (r +\\frac{1}{2}\\sigma_v^2)\\times T}{\\sigma_v\\sqrt{T}}$\n",
    "\n",
    "$ DD = d_1 $\n",
    "\n",
    "$PD = \\Phi(-DD)$"
   ]
  },
  {
   "cell_type": "markdown",
   "metadata": {},
   "source": [
    "Avec $\\Phi$ = N : Cumulated normal distribution"
   ]
  },
  {
   "cell_type": "code",
   "execution_count": 7,
   "metadata": {},
   "outputs": [],
   "source": [
    "PD = 0.2 # 2% of PD"
   ]
  },
  {
   "cell_type": "markdown",
   "metadata": {},
   "source": [
    "## Reverse cumulative normal distribution"
   ]
  },
  {
   "cell_type": "code",
   "execution_count": 8,
   "metadata": {},
   "outputs": [],
   "source": [
    "inv_PD = norm.cdf(PD) # Inverse of cumulative normal distribution -- cumulative : norm.ppdf"
   ]
  },
  {
   "cell_type": "code",
   "execution_count": 9,
   "metadata": {},
   "outputs": [
    {
     "data": {
      "text/plain": [
       "0.579259709439103"
      ]
     },
     "execution_count": 9,
     "metadata": {},
     "output_type": "execute_result"
    }
   ],
   "source": [
    "inv_PD"
   ]
  },
  {
   "cell_type": "markdown",
   "metadata": {},
   "source": [
    "## Compute d1 - using PD and $\\sigma_v$"
   ]
  },
  {
   "cell_type": "markdown",
   "metadata": {},
   "source": [
    "$PD = \\Phi(-DD) \\rightarrow d_1 = -\\Phi^{-1}(PD)$"
   ]
  },
  {
   "cell_type": "code",
   "execution_count": 10,
   "metadata": {},
   "outputs": [],
   "source": [
    "d1 = -inv_PD"
   ]
  },
  {
   "cell_type": "code",
   "execution_count": 11,
   "metadata": {},
   "outputs": [],
   "source": [
    "d2 = d1-sigma_v*np.sqrt(T)"
   ]
  },
  {
   "cell_type": "code",
   "execution_count": 12,
   "metadata": {},
   "outputs": [
    {
     "name": "stdout",
     "output_type": "stream",
     "text": [
      "d1 = -0.579\n",
      "d2 = -1.354\n"
     ]
    }
   ],
   "source": [
    "print('d1 =',round(d1,3))\n",
    "print('d2 =',round(d2,3))"
   ]
  },
  {
   "cell_type": "markdown",
   "metadata": {},
   "source": [
    "# Introduce carbon tax\n",
    "\n",
    "3 évolutions de prix possibles - sur l'horizon 2030-2035 (si plus changer maturité)"
   ]
  },
  {
   "cell_type": "code",
   "execution_count": 330,
   "metadata": {},
   "outputs": [],
   "source": [
    "scenarios = pd.read_excel('scenarios_edited.xlsx')\n",
    "scenarios = scenarios.set_index('Year')"
   ]
  },
  {
   "cell_type": "code",
   "execution_count": 331,
   "metadata": {
    "scrolled": true
   },
   "outputs": [
    {
     "data": {
      "text/html": [
       "<div>\n",
       "<style scoped>\n",
       "    .dataframe tbody tr th:only-of-type {\n",
       "        vertical-align: middle;\n",
       "    }\n",
       "\n",
       "    .dataframe tbody tr th {\n",
       "        vertical-align: top;\n",
       "    }\n",
       "\n",
       "    .dataframe thead th {\n",
       "        text-align: right;\n",
       "    }\n",
       "</style>\n",
       "<table border=\"1\" class=\"dataframe\">\n",
       "  <thead>\n",
       "    <tr style=\"text-align: right;\">\n",
       "      <th></th>\n",
       "      <th>SSP2-Baseline (3.8°C)-Cout Carbone (US$2010/tCO2)</th>\n",
       "      <th>SSP2-Baseline (3.8°C)-Temps de retour températures extrêmes (années)</th>\n",
       "      <th>SSP2-Baseline (3.8°C)-Augmentation intensité températures extrêmes</th>\n",
       "      <th>SSP2-34 (2.2°C)-Cout Carbone (US$2010/tCO2)</th>\n",
       "      <th>SSP2-34 (2.2°C)-Temps de retour températures extrêmes (années)</th>\n",
       "      <th>SSP2-34 (2.2°C)-Augmentation intensité températures extrêmes</th>\n",
       "      <th>SSP2-26 (1.8°C)-Cout Carbone (US$2010/tCO2)</th>\n",
       "      <th>SSP2-26 (1.8°C)-Temps de retour températures extrêmes (années)</th>\n",
       "      <th>SSP2-26 (1.8°C)-Augmentation intensité températures extrêmes</th>\n",
       "    </tr>\n",
       "    <tr>\n",
       "      <th>Year</th>\n",
       "      <th></th>\n",
       "      <th></th>\n",
       "      <th></th>\n",
       "      <th></th>\n",
       "      <th></th>\n",
       "      <th></th>\n",
       "      <th></th>\n",
       "      <th></th>\n",
       "      <th></th>\n",
       "    </tr>\n",
       "  </thead>\n",
       "  <tbody>\n",
       "    <tr>\n",
       "      <th>2021</th>\n",
       "      <td>0</td>\n",
       "      <td>20</td>\n",
       "      <td>0.00</td>\n",
       "      <td>7</td>\n",
       "      <td>20</td>\n",
       "      <td>0.00</td>\n",
       "      <td>7</td>\n",
       "      <td>20</td>\n",
       "      <td>0</td>\n",
       "    </tr>\n",
       "    <tr>\n",
       "      <th>2030</th>\n",
       "      <td>0</td>\n",
       "      <td>15</td>\n",
       "      <td>0.02</td>\n",
       "      <td>85</td>\n",
       "      <td>15</td>\n",
       "      <td>0.01</td>\n",
       "      <td>390</td>\n",
       "      <td>17</td>\n",
       "      <td>0</td>\n",
       "    </tr>\n",
       "    <tr>\n",
       "      <th>2040</th>\n",
       "      <td>0</td>\n",
       "      <td>10</td>\n",
       "      <td>0.04</td>\n",
       "      <td>135</td>\n",
       "      <td>10</td>\n",
       "      <td>0.02</td>\n",
       "      <td>640</td>\n",
       "      <td>14</td>\n",
       "      <td>0</td>\n",
       "    </tr>\n",
       "    <tr>\n",
       "      <th>2050</th>\n",
       "      <td>0</td>\n",
       "      <td>5</td>\n",
       "      <td>0.06</td>\n",
       "      <td>240</td>\n",
       "      <td>5</td>\n",
       "      <td>0.03</td>\n",
       "      <td>1124</td>\n",
       "      <td>11</td>\n",
       "      <td>0</td>\n",
       "    </tr>\n",
       "    <tr>\n",
       "      <th>2060</th>\n",
       "      <td>0</td>\n",
       "      <td>2</td>\n",
       "      <td>0.08</td>\n",
       "      <td>390</td>\n",
       "      <td>2</td>\n",
       "      <td>0.04</td>\n",
       "      <td>1850</td>\n",
       "      <td>8</td>\n",
       "      <td>0</td>\n",
       "    </tr>\n",
       "  </tbody>\n",
       "</table>\n",
       "</div>"
      ],
      "text/plain": [
       "      SSP2-Baseline (3.8°C)-Cout Carbone (US$2010/tCO2)  \\\n",
       "Year                                                      \n",
       "2021                                                  0   \n",
       "2030                                                  0   \n",
       "2040                                                  0   \n",
       "2050                                                  0   \n",
       "2060                                                  0   \n",
       "\n",
       "      SSP2-Baseline (3.8°C)-Temps de retour températures extrêmes (années)  \\\n",
       "Year                                                                         \n",
       "2021                                                 20                      \n",
       "2030                                                 15                      \n",
       "2040                                                 10                      \n",
       "2050                                                  5                      \n",
       "2060                                                  2                      \n",
       "\n",
       "      SSP2-Baseline (3.8°C)-Augmentation intensité températures extrêmes  \\\n",
       "Year                                                                       \n",
       "2021                                               0.00                    \n",
       "2030                                               0.02                    \n",
       "2040                                               0.04                    \n",
       "2050                                               0.06                    \n",
       "2060                                               0.08                    \n",
       "\n",
       "      SSP2-34 (2.2°C)-Cout Carbone (US$2010/tCO2)  \\\n",
       "Year                                                \n",
       "2021                                            7   \n",
       "2030                                           85   \n",
       "2040                                          135   \n",
       "2050                                          240   \n",
       "2060                                          390   \n",
       "\n",
       "      SSP2-34 (2.2°C)-Temps de retour températures extrêmes (années)  \\\n",
       "Year                                                                   \n",
       "2021                                                 20                \n",
       "2030                                                 15                \n",
       "2040                                                 10                \n",
       "2050                                                  5                \n",
       "2060                                                  2                \n",
       "\n",
       "      SSP2-34 (2.2°C)-Augmentation intensité températures extrêmes  \\\n",
       "Year                                                                 \n",
       "2021                                               0.00              \n",
       "2030                                               0.01              \n",
       "2040                                               0.02              \n",
       "2050                                               0.03              \n",
       "2060                                               0.04              \n",
       "\n",
       "      SSP2-26 (1.8°C)-Cout Carbone (US$2010/tCO2)  \\\n",
       "Year                                                \n",
       "2021                                            7   \n",
       "2030                                          390   \n",
       "2040                                          640   \n",
       "2050                                         1124   \n",
       "2060                                         1850   \n",
       "\n",
       "      SSP2-26 (1.8°C)-Temps de retour températures extrêmes (années)  \\\n",
       "Year                                                                   \n",
       "2021                                                 20                \n",
       "2030                                                 17                \n",
       "2040                                                 14                \n",
       "2050                                                 11                \n",
       "2060                                                  8                \n",
       "\n",
       "      SSP2-26 (1.8°C)-Augmentation intensité températures extrêmes  \n",
       "Year                                                                \n",
       "2021                                                  0             \n",
       "2030                                                  0             \n",
       "2040                                                  0             \n",
       "2050                                                  0             \n",
       "2060                                                  0             "
      ]
     },
     "execution_count": 331,
     "metadata": {},
     "output_type": "execute_result"
    }
   ],
   "source": [
    "scenarios.head()"
   ]
  },
  {
   "cell_type": "markdown",
   "metadata": {},
   "source": [
    "### Extract carbon prices "
   ]
  },
  {
   "cell_type": "code",
   "execution_count": 356,
   "metadata": {},
   "outputs": [],
   "source": [
    "carbon_cols = scenarios.columns[scenarios.columns.str.contains('Carbone')]\n",
    "carbon_prices = scenarios[carbon_cols]"
   ]
  },
  {
   "cell_type": "code",
   "execution_count": 430,
   "metadata": {},
   "outputs": [
    {
     "data": {
      "text/html": [
       "<div>\n",
       "<style scoped>\n",
       "    .dataframe tbody tr th:only-of-type {\n",
       "        vertical-align: middle;\n",
       "    }\n",
       "\n",
       "    .dataframe tbody tr th {\n",
       "        vertical-align: top;\n",
       "    }\n",
       "\n",
       "    .dataframe thead th {\n",
       "        text-align: right;\n",
       "    }\n",
       "</style>\n",
       "<table border=\"1\" class=\"dataframe\">\n",
       "  <thead>\n",
       "    <tr style=\"text-align: right;\">\n",
       "      <th></th>\n",
       "      <th>SSP2-Baseline (3.8°C)-Cout Carbone (US$2010/tCO2)</th>\n",
       "      <th>SSP2-34 (2.2°C)-Cout Carbone (US$2010/tCO2)</th>\n",
       "      <th>SSP2-26 (1.8°C)-Cout Carbone (US$2010/tCO2)</th>\n",
       "    </tr>\n",
       "    <tr>\n",
       "      <th>Year</th>\n",
       "      <th></th>\n",
       "      <th></th>\n",
       "      <th></th>\n",
       "    </tr>\n",
       "  </thead>\n",
       "  <tbody>\n",
       "    <tr>\n",
       "      <th>2021</th>\n",
       "      <td>0</td>\n",
       "      <td>7</td>\n",
       "      <td>7</td>\n",
       "    </tr>\n",
       "    <tr>\n",
       "      <th>2030</th>\n",
       "      <td>0</td>\n",
       "      <td>85</td>\n",
       "      <td>390</td>\n",
       "    </tr>\n",
       "  </tbody>\n",
       "</table>\n",
       "</div>"
      ],
      "text/plain": [
       "      SSP2-Baseline (3.8°C)-Cout Carbone (US$2010/tCO2)  \\\n",
       "Year                                                      \n",
       "2021                                                  0   \n",
       "2030                                                  0   \n",
       "\n",
       "      SSP2-34 (2.2°C)-Cout Carbone (US$2010/tCO2)  \\\n",
       "Year                                                \n",
       "2021                                            7   \n",
       "2030                                           85   \n",
       "\n",
       "      SSP2-26 (1.8°C)-Cout Carbone (US$2010/tCO2)  \n",
       "Year                                               \n",
       "2021                                            7  \n",
       "2030                                          390  "
      ]
     },
     "execution_count": 430,
     "metadata": {},
     "output_type": "execute_result"
    }
   ],
   "source": [
    "carbon_prices.head(2)"
   ]
  },
  {
   "cell_type": "markdown",
   "metadata": {},
   "source": [
    "### Create array with linspace"
   ]
  },
  {
   "cell_type": "code",
   "execution_count": 431,
   "metadata": {},
   "outputs": [],
   "source": [
    "c_prices = {}\n",
    "for col in carbon_cols :\n",
    "    tmp = [] # temporary list to store carbon prices\n",
    "    for i , (year,price) in enumerate(zip(carbon_prices.index,carbon_prices[col])):\n",
    "        if i < len(carbon_prices.index)-1:\n",
    "            if i==0:\n",
    "                tmp+=np.linspace(price,carbon_prices[col].values[i+1],carbon_prices.index[i+1]-year+1).tolist()\n",
    "            else :\n",
    "                tmp+=np.linspace(price,carbon_prices[col].values[i+1],carbon_prices.index[i+1]-year+1).tolist()[1:]\n",
    "    c_prices[col] = tmp\n",
    "carbon_df = pd.DataFrame(c_prices)\n",
    "carbon_df.index += 2021\n",
    "carbon_df = carbon_df.rename_axis(\"Year\")"
   ]
  },
  {
   "cell_type": "code",
   "execution_count": 438,
   "metadata": {},
   "outputs": [
    {
     "data": {
      "text/plain": [
       "<matplotlib.axes._subplots.AxesSubplot at 0x7f795aa41310>"
      ]
     },
     "execution_count": 438,
     "metadata": {},
     "output_type": "execute_result"
    },
    {
     "data": {
      "image/png": "[encoded data removed]",
      "text/plain": [
       "<Figure size 432x288 with 1 Axes>"
      ]
     },
     "metadata": {
      "needs_background": "light"
     },
     "output_type": "display_data"
    }
   ],
   "source": [
    "carbon_df.plot()"
   ]
  },
  {
   "cell_type": "markdown",
   "metadata": {},
   "source": [
    "# Transition risk  - From carbon tax to asset devaluation\n",
    "\n",
    "### Need to compute carbon footprint each year : \n",
    "\n",
    "* Sum of carbon footprint on each country of activity : i = 0; one company only\n",
    "\n",
    "$CC(k,t) = \\sum_{j\\in M} Scope_1(j,t)\\times CP(j,k,t) $\n",
    "\n",
    "k is scenario chosen ; j a region ; t is time\n",
    "\n",
    "* To simplify our study - Only consider one country ? \n",
    "\n",
    "### Shock to EBITDA \n",
    "\n",
    "* Firm is equal to a given multiplier times EBITDA \n",
    "\n",
    "$\\zeta(k,t) = \\frac{CC(k,t)}{EBITDA(k=0,t=0)}$\n",
    "\n",
    "### Link with initial firm value \n",
    "\n",
    "$V(k,t) = (1-\\zeta(k,t))\\times V(k=0,t=0) $\n",
    "\n",
    "## Ebitda & Firm value\n",
    "\n",
    "<img src=https://chinookadvisors.com/wp-content/uploads/2020/07/figure.png style=\"width:110px;\"/>"
   ]
  },
  {
   "cell_type": "markdown",
   "metadata": {},
   "source": [
    "## What amount of carbon dioxyde ? British Petroleum\n",
    "\n",
    "<img src = https://safety4sea.com/wp-content/uploads/2019/02/bp-co2-in-2040-1024x517.png style=\"width:400px;\"/>"
   ]
  },
  {
   "cell_type": "code",
   "execution_count": 451,
   "metadata": {},
   "outputs": [],
   "source": [
    "### Create scenario\n",
    "def create_scenarios(carbon_dict,T):\n",
    "    ## Create a scenario based on dict : {initial_value1:[growth],initial_value2:[growth]}\n",
    "    carbon_scenarios = [] # Stores all carbon scenario \n",
    "    for (i,base_value) in enumerate(carbon_dict):\n",
    "        for (j,growth_rate) in enumerate(carbon_dict[base_value]):\n",
    "            scenario = [base_value*(1+growth_rate)**t for t in range(T)]\n",
    "            carbon_scenarios.append(scenario)\n",
    "    return(carbon_scenarios)\n",
    "\n",
    "### Plot scenarios\n",
    "def plot_scenarios(carbon_scenarios,T,prefix='Carbon tax',ylabel='Carbon tax [USD]'):\n",
    "    time  = [i+2021 for i in range(T)]\n",
    "    for (i,scenario) in enumerate(carbon_scenarios):\n",
    "        plt.plot(time,scenario,label=f\"{prefix} {i+1}\")\n",
    "    plt.xlabel('Year')\n",
    "    plt.ylabel(ylabel)\n",
    "    plt.legend()\n",
    "    plt.show()"
   ]
  },
  {
   "cell_type": "code",
   "execution_count": 452,
   "metadata": {},
   "outputs": [],
   "source": [
    "bp_dict = {35:[0.01,-0.03,-0.079]}"
   ]
  },
  {
   "cell_type": "code",
   "execution_count": 455,
   "metadata": {},
   "outputs": [
    {
     "data": {
      "image/png": "[encoded data removed]",
      "text/plain": [
       "<Figure size 432x288 with 1 Axes>"
      ]
     },
     "metadata": {
      "needs_background": "light"
     },
     "output_type": "display_data"
    }
   ],
   "source": [
    "T = 40 # Set horizon\n",
    "bp_carbon_scenarios = create_scenarios(bp_dict,T=40)\n",
    "plot_scenarios(bp_carbon_scenarios,T=40,prefix='BP carbon',ylabel='GTCo2eq')"
   ]
  },
  {
   "cell_type": "markdown",
   "metadata": {},
   "source": [
    "## Compute each carbon cost for each scenario"
   ]
  },
  {
   "cell_type": "code",
   "execution_count": 465,
   "metadata": {},
   "outputs": [],
   "source": [
    "def carbon_cost(carbon_scenarios,firm_scenario):\n",
    "    \"\"\"Carbon scenarios : liste des prix du carbone sur la durée de temps considérée\n",
    "       Firm scenario : Trajectoire de décarbonation envisagé par l'entreprise\n",
    "       \n",
    "    Output : array avec le coût de chaque possibilité\"\"\"\n",
    "    results = {}\n",
    "    for (i,carbon_tax) in enumerate(carbon_scenarios):\n",
    "        ## Loop on each carbon tax & compute a price \n",
    "        for (j,scenario) in enumerate(firm_scenario):\n",
    "            cost = []\n",
    "            for (carbon_price,scope) in zip(carbon_tax,scenario):\n",
    "                cost.append(carbon_price*scope)\n",
    "            results[f'scenario_{i}_{j}'] = cost # scenario i (which carbon tax) ; j (which alignement scenario)\n",
    "    return(results)"
   ]
  },
  {
   "cell_type": "code",
   "execution_count": 467,
   "metadata": {
    "scrolled": false
   },
   "outputs": [],
   "source": [
    "### Use carbon df & firm scenarios\n",
    "# create array with carbon df\n",
    "array_carbon_df = [carbon_df[col].tolist() for col in carbon_df.columns]\n",
    "results = carbon_cost(array_carbon_df,bp_carbon_scenarios)"
   ]
  },
  {
   "cell_type": "code",
   "execution_count": 481,
   "metadata": {},
   "outputs": [],
   "source": [
    "df = pd.DataFrame(results)\n",
    "df.index = carbon_df.index"
   ]
  },
  {
   "cell_type": "code",
   "execution_count": 482,
   "metadata": {
    "scrolled": true
   },
   "outputs": [
    {
     "data": {
      "text/html": [
       "<div>\n",
       "<style scoped>\n",
       "    .dataframe tbody tr th:only-of-type {\n",
       "        vertical-align: middle;\n",
       "    }\n",
       "\n",
       "    .dataframe tbody tr th {\n",
       "        vertical-align: top;\n",
       "    }\n",
       "\n",
       "    .dataframe thead th {\n",
       "        text-align: right;\n",
       "    }\n",
       "</style>\n",
       "<table border=\"1\" class=\"dataframe\">\n",
       "  <thead>\n",
       "    <tr style=\"text-align: right;\">\n",
       "      <th></th>\n",
       "      <th>scenario_0_0</th>\n",
       "      <th>scenario_0_1</th>\n",
       "      <th>scenario_0_2</th>\n",
       "      <th>scenario_1_0</th>\n",
       "      <th>scenario_1_1</th>\n",
       "      <th>scenario_1_2</th>\n",
       "      <th>scenario_2_0</th>\n",
       "      <th>scenario_2_1</th>\n",
       "      <th>scenario_2_2</th>\n",
       "    </tr>\n",
       "    <tr>\n",
       "      <th>Year</th>\n",
       "      <th></th>\n",
       "      <th></th>\n",
       "      <th></th>\n",
       "      <th></th>\n",
       "      <th></th>\n",
       "      <th></th>\n",
       "      <th></th>\n",
       "      <th></th>\n",
       "      <th></th>\n",
       "    </tr>\n",
       "  </thead>\n",
       "  <tbody>\n",
       "    <tr>\n",
       "      <th>2021</th>\n",
       "      <td>0.0</td>\n",
       "      <td>0.0</td>\n",
       "      <td>0.0</td>\n",
       "      <td>245.000000</td>\n",
       "      <td>245.000000</td>\n",
       "      <td>245.000000</td>\n",
       "      <td>245.000000</td>\n",
       "      <td>245.000000</td>\n",
       "      <td>245.000000</td>\n",
       "    </tr>\n",
       "    <tr>\n",
       "      <th>2022</th>\n",
       "      <td>0.0</td>\n",
       "      <td>0.0</td>\n",
       "      <td>0.0</td>\n",
       "      <td>553.816667</td>\n",
       "      <td>531.883333</td>\n",
       "      <td>505.015000</td>\n",
       "      <td>1751.788889</td>\n",
       "      <td>1682.411111</td>\n",
       "      <td>1597.423333</td>\n",
       "    </tr>\n",
       "    <tr>\n",
       "      <th>2023</th>\n",
       "      <td>0.0</td>\n",
       "      <td>0.0</td>\n",
       "      <td>0.0</td>\n",
       "      <td>868.785167</td>\n",
       "      <td>801.333167</td>\n",
       "      <td>722.418585</td>\n",
       "      <td>3288.689056</td>\n",
       "      <td>3033.357056</td>\n",
       "      <td>2734.634735</td>\n",
       "    </tr>\n",
       "    <tr>\n",
       "      <th>2024</th>\n",
       "      <td>0.0</td>\n",
       "      <td>0.0</td>\n",
       "      <td>0.0</td>\n",
       "      <td>1189.997655</td>\n",
       "      <td>1054.137315</td>\n",
       "      <td>902.320605</td>\n",
       "      <td>4856.152047</td>\n",
       "      <td>4301.732073</td>\n",
       "      <td>3682.197216</td>\n",
       "    </tr>\n",
       "    <tr>\n",
       "      <th>2025</th>\n",
       "      <td>0.0</td>\n",
       "      <td>0.0</td>\n",
       "      <td>0.0</td>\n",
       "      <td>1517.547515</td>\n",
       "      <td>1291.052015</td>\n",
       "      <td>1049.289491</td>\n",
       "      <td>6454.635429</td>\n",
       "      <td>5491.274569</td>\n",
       "      <td>4462.977970</td>\n",
       "    </tr>\n",
       "  </tbody>\n",
       "</table>\n",
       "</div>"
      ],
      "text/plain": [
       "      scenario_0_0  scenario_0_1  scenario_0_2  scenario_1_0  scenario_1_1  \\\n",
       "Year                                                                         \n",
       "2021           0.0           0.0           0.0    245.000000    245.000000   \n",
       "2022           0.0           0.0           0.0    553.816667    531.883333   \n",
       "2023           0.0           0.0           0.0    868.785167    801.333167   \n",
       "2024           0.0           0.0           0.0   1189.997655   1054.137315   \n",
       "2025           0.0           0.0           0.0   1517.547515   1291.052015   \n",
       "\n",
       "      scenario_1_2  scenario_2_0  scenario_2_1  scenario_2_2  \n",
       "Year                                                          \n",
       "2021    245.000000    245.000000    245.000000    245.000000  \n",
       "2022    505.015000   1751.788889   1682.411111   1597.423333  \n",
       "2023    722.418585   3288.689056   3033.357056   2734.634735  \n",
       "2024    902.320605   4856.152047   4301.732073   3682.197216  \n",
       "2025   1049.289491   6454.635429   5491.274569   4462.977970  "
      ]
     },
     "execution_count": 482,
     "metadata": {},
     "output_type": "execute_result"
    }
   ],
   "source": [
    "df.head(5)"
   ]
  },
  {
   "cell_type": "markdown",
   "metadata": {},
   "source": [
    "##### Pour chaque scénario on calcule le coût de carbone associé"
   ]
  },
  {
   "cell_type": "code",
   "execution_count": 476,
   "metadata": {
    "scrolled": false
   },
   "outputs": [
    {
     "data": {
      "image/png": "[encoded data removed]",
      "text/plain": [
       "<Figure size 432x288 with 1 Axes>"
      ]
     },
     "metadata": {
      "needs_background": "light"
     },
     "output_type": "display_data"
    }
   ],
   "source": [
    "time  = [i+2021 for i in range(T)]\n",
    "for col in df.columns:\n",
    "    plt.plot(time,df[col],label=col)\n",
    "plt.ylabel('Carbon cost [USD]')\n",
    "plt.legend()\n",
    "plt.show() # Carbon price"
   ]
  },
  {
   "cell_type": "markdown",
   "metadata": {},
   "source": [
    "### Compute zeta & PD "
   ]
  },
  {
   "cell_type": "code",
   "execution_count": 634,
   "metadata": {},
   "outputs": [],
   "source": [
    "import math\n",
    "def compute_pd(carbon_cost,V,D,multiple=6,T=1,PD0=0.02,sigma_v=0.5,r=0):\n",
    "    # list of zeta, compute evolution of PD\n",
    "    PD = [PD0]\n",
    "    for i in range(1,len(carbon_cost)):\n",
    "        zeta = carbon_cost[i]/(V/multiple)\n",
    "        if zeta > 1 :\n",
    "            #### Cannot handle carbon tax : \n",
    "            PD.append(1)\n",
    "        # Compute pd ième \n",
    "        else:\n",
    "            DD = ( np.log( (1-zeta)*V/D )+ (r+0.5*sigma_v**2)*T )/(sigma_v*np.sqrt(T))\n",
    "            if DD > -0.5 :\n",
    "                # Pas de défaut possible\n",
    "                pdi = PD0\n",
    "            elif math.isnan(norm.ppf(-DD)):\n",
    "                pdi = 1\n",
    "            else :\n",
    "                pdi = norm.ppf(-DD)\n",
    "            PD.append(pdi)             \n",
    "    return(PD)"
   ]
  },
  {
   "cell_type": "markdown",
   "metadata": {},
   "source": [
    "### Attention à choisir des valeurs pertinentes sinon pas de résultats"
   ]
  },
  {
   "cell_type": "code",
   "execution_count": 635,
   "metadata": {},
   "outputs": [
    {
     "data": {
      "image/png": "[encoded data removed]",
      "text/plain": [
       "<Figure size 432x288 with 1 Axes>"
      ]
     },
     "metadata": {
      "needs_background": "light"
     },
     "output_type": "display_data"
    }
   ],
   "source": [
    "plt.xlabel('DD')\n",
    "plt.ylabel(\"PD\")\n",
    "plt.plot(np.linspace(-1,0,20),norm.ppf(-np.linspace(-1,0,20)))\n",
    "plt.title('Evolution de la PD en fonction de DD')\n",
    "plt.show()"
   ]
  },
  {
   "cell_type": "code",
   "execution_count": 640,
   "metadata": {},
   "outputs": [],
   "source": [
    "V = 8000\n",
    "D = 2000"
   ]
  },
  {
   "cell_type": "markdown",
   "metadata": {},
   "source": [
    "### Quelques visualisations"
   ]
  },
  {
   "cell_type": "code",
   "execution_count": 650,
   "metadata": {},
   "outputs": [],
   "source": [
    "prob_defaults = []\n",
    "time = df.index.tolist()\n",
    "for (i,col) in enumerate(df.columns) : \n",
    "    prob_defaults.append(compute_pd(df.iloc[:,i].values,V,D,multiple=6,T=1,PD0=0.02,sigma_v=0.5,r=0))"
   ]
  },
  {
   "cell_type": "code",
   "execution_count": 662,
   "metadata": {},
   "outputs": [
    {
     "data": {
      "image/png": "[encoded data removed]",
      "text/plain": [
       "<Figure size 1440x360 with 2 Axes>"
      ]
     },
     "metadata": {
      "needs_background": "light"
     },
     "output_type": "display_data"
    }
   ],
   "source": [
    "plt.figure(figsize=(20,5))\n",
    "plt.subplot(121)\n",
    "for i,pd in enumerate(prob_defaults) :\n",
    "    plt.plot(time,pd,label=df.columns[i])\n",
    "plt.legend()\n",
    "plt.title(\"PD en fonction du couple carbon & décarbonation\")\n",
    "plt.subplot(122)\n",
    "for col in df.columns:\n",
    "    plt.plot(time,df[col],label = col)\n",
    "plt.title(\"Coût fonction du couple carbon & décarbonation\")\n",
    "plt.legend()\n",
    "plt.show()"
   ]
  },
  {
   "cell_type": "markdown",
   "metadata": {},
   "source": [
    "## Climate risk\n",
    "\n",
    "\n",
    "Sur l'horizon des 40 années, une catastrophe arrive \n",
    "\n",
    "* L'année t est choisie avec une loi de poisson ? ou random au bout 2035-2060.\n",
    "\n",
    "#### Amplitude dépend du scénario de transition : \n",
    "\n",
    "* 20% de la valeur des actifs si prix carbon bas (BaU)\n",
    "* 10% de la valeur des assets si prix carbon medium\n",
    "* 4% de la valeur des assets si prix carbon haut\n"
   ]
  },
  {
   "cell_type": "code",
   "execution_count": 680,
   "metadata": {},
   "outputs": [
    {
     "data": {
      "text/plain": [
       "2036"
      ]
     },
     "execution_count": 680,
     "metadata": {},
     "output_type": "execute_result"
    }
   ],
   "source": [
    "np.random.randint(2035,2060)"
   ]
  },
  {
   "cell_type": "code",
   "execution_count": null,
   "metadata": {},
   "outputs": [],
   "source": [
    "def compute_poisson_loss(V,scenario):\n",
    "    year = np.random.randint(2035,2060)\n",
    "    \"\"\"S\"\"\"\n",
    "    losses_dic = {1:}"
   ]
  },
  {
   "cell_type": "code",
   "execution_count": null,
   "metadata": {},
   "outputs": [],
   "source": []
  },
  {
   "cell_type": "code",
   "execution_count": 670,
   "metadata": {},
   "outputs": [],
   "source": [
    "s = np.random.poisson(V,1)"
   ]
  },
  {
   "cell_type": "code",
   "execution_count": 671,
   "metadata": {},
   "outputs": [
    {
     "data": {
      "text/plain": [
       "array([8043])"
      ]
     },
     "execution_count": 671,
     "metadata": {},
     "output_type": "execute_result"
    }
   ],
   "source": [
    "s"
   ]
  }
 ],
 "metadata": {
  "kernelspec": {
   "display_name": "Python 3",
   "language": "python",
   "name": "python3"
  },
  "language_info": {
   "codemirror_mode": {
    "name": "ipython",
    "version": 3
   },
   "file_extension": ".py",
   "mimetype": "text/x-python",
   "name": "python",
   "nbconvert_exporter": "python",
   "pygments_lexer": "ipython3",
   "version": "3.7.6"
  }
 },
 "nbformat": 4,
 "nbformat_minor": 4
}
